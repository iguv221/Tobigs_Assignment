{
  "cells": [
    {
      "cell_type": "markdown",
      "metadata": {
        "id": "view-in-github",
        "colab_type": "text"
      },
      "source": [
        "<a href=\"https://colab.research.google.com/github/iguv221/Tobigs_Assignment/blob/main/4%EC%A3%BC%EC%B0%A8_DR1_%EA%B9%80%EC%84%B1%EC%9A%B0.ipynb\" target=\"_parent\"><img src=\"https://colab.research.google.com/assets/colab-badge.svg\" alt=\"Open In Colab\"/></a>"
      ]
    },
    {
      "cell_type": "markdown",
      "metadata": {
        "id": "zU92BX-5Pgsm"
      },
      "source": [
        "# 차원축소 Assignment1"
      ]
    },
    {
      "cell_type": "markdown",
      "metadata": {
        "id": "b15X2e8HPgsn"
      },
      "source": [
        "# ''' ? ''' 이 있는 부분을 채워주세요 \n",
        "\n",
        "참고하셔야 하는 함수들은 링크 달아드렸으니 들어가서 확인해보세요\n",
        "\n",
        "무작정 빈칸 채우기가 아니라 꼭 차원축소 과정을 이해하시면서 과제를 진행하시면 좋겠습니다!!!\n",
        "\n",
        "또 질문은 언제나 환영이니 과제하다가 궁금하신것 있으시면 자유롭게 물어보세요!!"
      ]
    },
    {
      "cell_type": "markdown",
      "metadata": {
        "id": "VHM2ow0gPgsn"
      },
      "source": [
        "# 1) PCA의 과정 차근차근 밟아보기"
      ]
    },
    {
      "cell_type": "code",
      "execution_count": 24,
      "metadata": {
        "id": "tpoi2PmKPgsn"
      },
      "outputs": [],
      "source": [
        "#기본 모듈 불러오기\n",
        "import numpy as np\n",
        "import numpy.linalg as lin\n",
        "import matplotlib.pyplot as plt\n",
        "import pandas as pd\n",
        "import random"
      ]
    },
    {
      "cell_type": "code",
      "execution_count": 25,
      "metadata": {
        "id": "ZcFtAQxoPgsn"
      },
      "outputs": [],
      "source": [
        "#설명변수 x1, x2, x3\n",
        "x1 = [95, 91, 66, 94, 68, 63, 12, 73, 93, 51, 13, 70, 63, 63, 97, 56, 67, 96, 75, 6]\n",
        "x2 = [56, 27, 25, 1, 9, 80, 92, 69, 6, 25, 83, 82, 54, 97, 66, 93, 76, 59, 94, 9]\n",
        "x3 = [57, 34, 9, 79, 4, 77, 100, 42, 6, 96, 61, 66, 9, 25, 84, 46, 16, 63, 53, 30]"
      ]
    },
    {
      "cell_type": "code",
      "execution_count": 26,
      "metadata": {
        "id": "QB3ElSfuPgso"
      },
      "outputs": [],
      "source": [
        "#   설명변수들을 하나의 행렬로\n",
        "X = np.stack((x1,x2,x3),axis=0)"
      ]
    },
    {
      "cell_type": "code",
      "execution_count": 27,
      "metadata": {
        "id": "WRc6gLv2Pgso"
      },
      "outputs": [],
      "source": [
        "X = pd.DataFrame(X.T,columns=['x1','x2','x3'])"
      ]
    },
    {
      "cell_type": "code",
      "execution_count": 28,
      "metadata": {
        "colab": {
          "base_uri": "https://localhost:8080/",
          "height": 676
        },
        "id": "6YYdgIxXPgso",
        "outputId": "26d83d83-5000-4390-f19b-d3e8cecd992f"
      },
      "outputs": [
        {
          "output_type": "execute_result",
          "data": {
            "text/plain": [
              "    x1  x2   x3\n",
              "0   95  56   57\n",
              "1   91  27   34\n",
              "2   66  25    9\n",
              "3   94   1   79\n",
              "4   68   9    4\n",
              "5   63  80   77\n",
              "6   12  92  100\n",
              "7   73  69   42\n",
              "8   93   6    6\n",
              "9   51  25   96\n",
              "10  13  83   61\n",
              "11  70  82   66\n",
              "12  63  54    9\n",
              "13  63  97   25\n",
              "14  97  66   84\n",
              "15  56  93   46\n",
              "16  67  76   16\n",
              "17  96  59   63\n",
              "18  75  94   53\n",
              "19   6   9   30"
            ],
            "text/html": [
              "\n",
              "  <div id=\"df-85a72042-abf4-4fdb-8f2a-4271c406d46b\">\n",
              "    <div class=\"colab-df-container\">\n",
              "      <div>\n",
              "<style scoped>\n",
              "    .dataframe tbody tr th:only-of-type {\n",
              "        vertical-align: middle;\n",
              "    }\n",
              "\n",
              "    .dataframe tbody tr th {\n",
              "        vertical-align: top;\n",
              "    }\n",
              "\n",
              "    .dataframe thead th {\n",
              "        text-align: right;\n",
              "    }\n",
              "</style>\n",
              "<table border=\"1\" class=\"dataframe\">\n",
              "  <thead>\n",
              "    <tr style=\"text-align: right;\">\n",
              "      <th></th>\n",
              "      <th>x1</th>\n",
              "      <th>x2</th>\n",
              "      <th>x3</th>\n",
              "    </tr>\n",
              "  </thead>\n",
              "  <tbody>\n",
              "    <tr>\n",
              "      <th>0</th>\n",
              "      <td>95</td>\n",
              "      <td>56</td>\n",
              "      <td>57</td>\n",
              "    </tr>\n",
              "    <tr>\n",
              "      <th>1</th>\n",
              "      <td>91</td>\n",
              "      <td>27</td>\n",
              "      <td>34</td>\n",
              "    </tr>\n",
              "    <tr>\n",
              "      <th>2</th>\n",
              "      <td>66</td>\n",
              "      <td>25</td>\n",
              "      <td>9</td>\n",
              "    </tr>\n",
              "    <tr>\n",
              "      <th>3</th>\n",
              "      <td>94</td>\n",
              "      <td>1</td>\n",
              "      <td>79</td>\n",
              "    </tr>\n",
              "    <tr>\n",
              "      <th>4</th>\n",
              "      <td>68</td>\n",
              "      <td>9</td>\n",
              "      <td>4</td>\n",
              "    </tr>\n",
              "    <tr>\n",
              "      <th>5</th>\n",
              "      <td>63</td>\n",
              "      <td>80</td>\n",
              "      <td>77</td>\n",
              "    </tr>\n",
              "    <tr>\n",
              "      <th>6</th>\n",
              "      <td>12</td>\n",
              "      <td>92</td>\n",
              "      <td>100</td>\n",
              "    </tr>\n",
              "    <tr>\n",
              "      <th>7</th>\n",
              "      <td>73</td>\n",
              "      <td>69</td>\n",
              "      <td>42</td>\n",
              "    </tr>\n",
              "    <tr>\n",
              "      <th>8</th>\n",
              "      <td>93</td>\n",
              "      <td>6</td>\n",
              "      <td>6</td>\n",
              "    </tr>\n",
              "    <tr>\n",
              "      <th>9</th>\n",
              "      <td>51</td>\n",
              "      <td>25</td>\n",
              "      <td>96</td>\n",
              "    </tr>\n",
              "    <tr>\n",
              "      <th>10</th>\n",
              "      <td>13</td>\n",
              "      <td>83</td>\n",
              "      <td>61</td>\n",
              "    </tr>\n",
              "    <tr>\n",
              "      <th>11</th>\n",
              "      <td>70</td>\n",
              "      <td>82</td>\n",
              "      <td>66</td>\n",
              "    </tr>\n",
              "    <tr>\n",
              "      <th>12</th>\n",
              "      <td>63</td>\n",
              "      <td>54</td>\n",
              "      <td>9</td>\n",
              "    </tr>\n",
              "    <tr>\n",
              "      <th>13</th>\n",
              "      <td>63</td>\n",
              "      <td>97</td>\n",
              "      <td>25</td>\n",
              "    </tr>\n",
              "    <tr>\n",
              "      <th>14</th>\n",
              "      <td>97</td>\n",
              "      <td>66</td>\n",
              "      <td>84</td>\n",
              "    </tr>\n",
              "    <tr>\n",
              "      <th>15</th>\n",
              "      <td>56</td>\n",
              "      <td>93</td>\n",
              "      <td>46</td>\n",
              "    </tr>\n",
              "    <tr>\n",
              "      <th>16</th>\n",
              "      <td>67</td>\n",
              "      <td>76</td>\n",
              "      <td>16</td>\n",
              "    </tr>\n",
              "    <tr>\n",
              "      <th>17</th>\n",
              "      <td>96</td>\n",
              "      <td>59</td>\n",
              "      <td>63</td>\n",
              "    </tr>\n",
              "    <tr>\n",
              "      <th>18</th>\n",
              "      <td>75</td>\n",
              "      <td>94</td>\n",
              "      <td>53</td>\n",
              "    </tr>\n",
              "    <tr>\n",
              "      <th>19</th>\n",
              "      <td>6</td>\n",
              "      <td>9</td>\n",
              "      <td>30</td>\n",
              "    </tr>\n",
              "  </tbody>\n",
              "</table>\n",
              "</div>\n",
              "      <button class=\"colab-df-convert\" onclick=\"convertToInteractive('df-85a72042-abf4-4fdb-8f2a-4271c406d46b')\"\n",
              "              title=\"Convert this dataframe to an interactive table.\"\n",
              "              style=\"display:none;\">\n",
              "        \n",
              "  <svg xmlns=\"http://www.w3.org/2000/svg\" height=\"24px\"viewBox=\"0 0 24 24\"\n",
              "       width=\"24px\">\n",
              "    <path d=\"M0 0h24v24H0V0z\" fill=\"none\"/>\n",
              "    <path d=\"M18.56 5.44l.94 2.06.94-2.06 2.06-.94-2.06-.94-.94-2.06-.94 2.06-2.06.94zm-11 1L8.5 8.5l.94-2.06 2.06-.94-2.06-.94L8.5 2.5l-.94 2.06-2.06.94zm10 10l.94 2.06.94-2.06 2.06-.94-2.06-.94-.94-2.06-.94 2.06-2.06.94z\"/><path d=\"M17.41 7.96l-1.37-1.37c-.4-.4-.92-.59-1.43-.59-.52 0-1.04.2-1.43.59L10.3 9.45l-7.72 7.72c-.78.78-.78 2.05 0 2.83L4 21.41c.39.39.9.59 1.41.59.51 0 1.02-.2 1.41-.59l7.78-7.78 2.81-2.81c.8-.78.8-2.07 0-2.86zM5.41 20L4 18.59l7.72-7.72 1.47 1.35L5.41 20z\"/>\n",
              "  </svg>\n",
              "      </button>\n",
              "      \n",
              "  <style>\n",
              "    .colab-df-container {\n",
              "      display:flex;\n",
              "      flex-wrap:wrap;\n",
              "      gap: 12px;\n",
              "    }\n",
              "\n",
              "    .colab-df-convert {\n",
              "      background-color: #E8F0FE;\n",
              "      border: none;\n",
              "      border-radius: 50%;\n",
              "      cursor: pointer;\n",
              "      display: none;\n",
              "      fill: #1967D2;\n",
              "      height: 32px;\n",
              "      padding: 0 0 0 0;\n",
              "      width: 32px;\n",
              "    }\n",
              "\n",
              "    .colab-df-convert:hover {\n",
              "      background-color: #E2EBFA;\n",
              "      box-shadow: 0px 1px 2px rgba(60, 64, 67, 0.3), 0px 1px 3px 1px rgba(60, 64, 67, 0.15);\n",
              "      fill: #174EA6;\n",
              "    }\n",
              "\n",
              "    [theme=dark] .colab-df-convert {\n",
              "      background-color: #3B4455;\n",
              "      fill: #D2E3FC;\n",
              "    }\n",
              "\n",
              "    [theme=dark] .colab-df-convert:hover {\n",
              "      background-color: #434B5C;\n",
              "      box-shadow: 0px 1px 3px 1px rgba(0, 0, 0, 0.15);\n",
              "      filter: drop-shadow(0px 1px 2px rgba(0, 0, 0, 0.3));\n",
              "      fill: #FFFFFF;\n",
              "    }\n",
              "  </style>\n",
              "\n",
              "      <script>\n",
              "        const buttonEl =\n",
              "          document.querySelector('#df-85a72042-abf4-4fdb-8f2a-4271c406d46b button.colab-df-convert');\n",
              "        buttonEl.style.display =\n",
              "          google.colab.kernel.accessAllowed ? 'block' : 'none';\n",
              "\n",
              "        async function convertToInteractive(key) {\n",
              "          const element = document.querySelector('#df-85a72042-abf4-4fdb-8f2a-4271c406d46b');\n",
              "          const dataTable =\n",
              "            await google.colab.kernel.invokeFunction('convertToInteractive',\n",
              "                                                     [key], {});\n",
              "          if (!dataTable) return;\n",
              "\n",
              "          const docLinkHtml = 'Like what you see? Visit the ' +\n",
              "            '<a target=\"_blank\" href=https://colab.research.google.com/notebooks/data_table.ipynb>data table notebook</a>'\n",
              "            + ' to learn more about interactive tables.';\n",
              "          element.innerHTML = '';\n",
              "          dataTable['output_type'] = 'display_data';\n",
              "          await google.colab.output.renderOutput(dataTable, element);\n",
              "          const docLink = document.createElement('div');\n",
              "          docLink.innerHTML = docLinkHtml;\n",
              "          element.appendChild(docLink);\n",
              "        }\n",
              "      </script>\n",
              "    </div>\n",
              "  </div>\n",
              "  "
            ]
          },
          "metadata": {},
          "execution_count": 28
        }
      ],
      "source": [
        "X"
      ]
    },
    {
      "cell_type": "markdown",
      "metadata": {
        "id": "NTRZsZjkPgso"
      },
      "source": [
        "### 1-1) 먼저 PCA를 시작하기 전 데이터 scaling!!!! 매우 중요합니다!\n",
        "\n",
        "https://datascienceschool.net/03%20machine%20learning/02.01%20%EB%8D%B0%EC%9D%B4%ED%84%B0%20%EC%A0%84%EC%B2%98%EB%A6%AC%20%EA%B8%B0%EC%B4%88.html?highlight=%EC%A0%84%EC%B2%98%EB%A6%AC  를 참고하시면 도움이 될거에요"
      ]
    },
    {
      "cell_type": "code",
      "execution_count": 29,
      "metadata": {
        "colab": {
          "base_uri": "https://localhost:8080/"
        },
        "id": "urxrwxdJvBre",
        "outputId": "78ba85a7-85da-4eb5-f3e2-87359a14144e"
      },
      "outputs": [
        {
          "output_type": "execute_result",
          "data": {
            "text/plain": [
              "array([[ 1.08573604,  0.02614175,  0.30684189],\n",
              "       [ 0.93801686, -0.86575334, -0.46445467],\n",
              "       [ 0.01477192, -0.92726334, -1.30282049],\n",
              "       [ 1.04880625, -1.66538341,  1.04460382],\n",
              "       [ 0.08863151, -1.41934339, -1.47049366],\n",
              "       [-0.09601747,  0.76426183,  0.97753455],\n",
              "       [-1.97943714,  1.13332186,  1.74883111],\n",
              "       [ 0.2732805 ,  0.42595679, -0.1961776 ],\n",
              "       [ 1.01187645, -1.5116084 , -1.40342439],\n",
              "       [-0.53917504, -0.92726334,  1.61469258],\n",
              "       [-1.94250735,  0.85652683,  0.44098042],\n",
              "       [ 0.16249111,  0.82577183,  0.60865359],\n",
              "       [-0.09601747, -0.03536825, -1.30282049],\n",
              "       [-0.09601747,  1.28709688, -0.76626636],\n",
              "       [ 1.15959564,  0.33369178,  1.21227698],\n",
              "       [-0.35452606,  1.16407687, -0.06203907],\n",
              "       [ 0.05170172,  0.64124181, -1.06807806],\n",
              "       [ 1.12266584,  0.11840676,  0.50804969],\n",
              "       [ 0.3471401 ,  1.19483187,  0.17270336],\n",
              "       [-2.20101593, -1.41934339, -0.5985932 ]])"
            ]
          },
          "metadata": {},
          "execution_count": 29
        }
      ],
      "source": [
        "#scaling\n",
        "from sklearn.preprocessing import StandardScaler\n",
        "scaler = StandardScaler()\n",
        "X_std = scaler.fit_transform(X)\n",
        "X_std"
      ]
    },
    {
      "cell_type": "code",
      "execution_count": 30,
      "metadata": {
        "id": "TjuIDQNMPgsp",
        "colab": {
          "base_uri": "https://localhost:8080/"
        },
        "outputId": "edf7788e-388b-4be6-d883-26a7e8648be4"
      },
      "outputs": [
        {
          "output_type": "execute_result",
          "data": {
            "text/plain": [
              "array([[ 1.08573604,  0.93801686,  0.01477192,  1.04880625,  0.08863151,\n",
              "        -0.09601747, -1.97943714,  0.2732805 ,  1.01187645, -0.53917504,\n",
              "        -1.94250735,  0.16249111, -0.09601747, -0.09601747,  1.15959564,\n",
              "        -0.35452606,  0.05170172,  1.12266584,  0.3471401 , -2.20101593],\n",
              "       [ 0.02614175, -0.86575334, -0.92726334, -1.66538341, -1.41934339,\n",
              "         0.76426183,  1.13332186,  0.42595679, -1.5116084 , -0.92726334,\n",
              "         0.85652683,  0.82577183, -0.03536825,  1.28709688,  0.33369178,\n",
              "         1.16407687,  0.64124181,  0.11840676,  1.19483187, -1.41934339],\n",
              "       [ 0.30684189, -0.46445467, -1.30282049,  1.04460382, -1.47049366,\n",
              "         0.97753455,  1.74883111, -0.1961776 , -1.40342439,  1.61469258,\n",
              "         0.44098042,  0.60865359, -1.30282049, -0.76626636,  1.21227698,\n",
              "        -0.06203907, -1.06807806,  0.50804969,  0.17270336, -0.5985932 ]])"
            ]
          },
          "metadata": {},
          "execution_count": 30
        }
      ],
      "source": [
        "features = X_std.T\n",
        "features"
      ]
    },
    {
      "cell_type": "markdown",
      "metadata": {
        "id": "3HHTB65iPgsp"
      },
      "source": [
        "### 1-2) 다음으로 공분산 행렬을 구합니다\n",
        "\n",
        "https://docs.scipy.org/doc/numpy/reference/generated/numpy.cov.html 를 참고하시면 도움이 될거에요"
      ]
    },
    {
      "cell_type": "code",
      "execution_count": 31,
      "metadata": {
        "id": "lZ2KT6M3Pgsq",
        "scrolled": true,
        "colab": {
          "base_uri": "https://localhost:8080/"
        },
        "outputId": "52f8a38e-3448-48f5-afb4-c0ecea58014a"
      },
      "outputs": [
        {
          "output_type": "execute_result",
          "data": {
            "text/plain": [
              "array([[ 1.05263158, -0.2037104 , -0.12079228],\n",
              "       [-0.2037104 ,  1.05263158,  0.3125801 ],\n",
              "       [-0.12079228,  0.3125801 ,  1.05263158]])"
            ]
          },
          "metadata": {},
          "execution_count": 31
        }
      ],
      "source": [
        "cov_matrix = np.cov(features)\n",
        "cov_matrix"
      ]
    },
    {
      "cell_type": "markdown",
      "metadata": {
        "id": "LDPacia_Pgsq"
      },
      "source": [
        "### 1-3) 이제 고유값과 고유벡터를 구합니다\n",
        "\n",
        "실습코드를 참고해주세요"
      ]
    },
    {
      "cell_type": "code",
      "source": [
        ""
      ],
      "metadata": {
        "id": "GGCSk_Z85-2H"
      },
      "execution_count": null,
      "outputs": []
    },
    {
      "cell_type": "code",
      "execution_count": 42,
      "metadata": {
        "id": "u850XjOtv3b9",
        "colab": {
          "base_uri": "https://localhost:8080/"
        },
        "outputId": "b7293375-a971-484b-fc3e-dcdc3d0a2a42"
      },
      "outputs": [
        {
          "output_type": "stream",
          "name": "stdout",
          "text": [
            "[1.48756162 0.94435407 0.72597904]\n",
            "[[ 0.47018528 -0.85137353 -0.23257022]\n",
            " [-0.64960236 -0.15545725 -0.74421087]\n",
            " [-0.59744671 -0.50099516  0.62614797]]\n"
          ]
        }
      ],
      "source": [
        "import numpy.linalg as lin\n",
        "\n",
        "#Eigenvalue와 Eigenvector 함께 출력\n",
        "Eigenvalue, Eigenvector = lin.eig(cov_matrix)\n",
        "print(Eigenvalue)\n",
        "print(Eigenvector)  "
      ]
    },
    {
      "cell_type": "markdown",
      "metadata": {
        "id": "--C9kkKDPgsr"
      },
      "source": [
        "### 1-4) 고유값 분해: 고유값 분해의 곱으로 원래 공분산 행렬을 구해봅니다\n",
        "\n",
        "https://docs.scipy.org/doc/numpy/reference/generated/numpy.dot.html 를 참고해주세요\n",
        "\n",
        "A = 𝑃Λ𝑃`\n",
        "이 식 기억나죠?"
      ]
    },
    {
      "cell_type": "code",
      "source": [
        "mat = np.zeros((3,3))\n",
        "mat[0][0] = Eigenvalue[0]\n",
        "mat[1][1] = Eigenvalue[1]\n",
        "mat[2][2] = Eigenvalue[2]\n",
        "mat"
      ],
      "metadata": {
        "colab": {
          "base_uri": "https://localhost:8080/"
        },
        "id": "gn3QbTceZu7Z",
        "outputId": "83763aed-5fad-448b-ca8e-b7d0b64ab609"
      },
      "execution_count": 44,
      "outputs": [
        {
          "output_type": "execute_result",
          "data": {
            "text/plain": [
              "array([[1.48756162, 0.        , 0.        ],\n",
              "       [0.        , 0.94435407, 0.        ],\n",
              "       [0.        , 0.        , 0.72597904]])"
            ]
          },
          "metadata": {},
          "execution_count": 44
        }
      ]
    },
    {
      "cell_type": "code",
      "execution_count": 45,
      "metadata": {
        "colab": {
          "base_uri": "https://localhost:8080/"
        },
        "id": "Qy29TOVE29iH",
        "outputId": "2ee4d3fb-c488-459f-dbbe-9939352ed896"
      },
      "outputs": [
        {
          "output_type": "execute_result",
          "data": {
            "text/plain": [
              "array([[ 1.05263158, -0.2037104 , -0.12079228],\n",
              "       [-0.2037104 ,  1.05263158,  0.3125801 ],\n",
              "       [-0.12079228,  0.3125801 ,  1.05263158]])"
            ]
          },
          "metadata": {},
          "execution_count": 45
        }
      ],
      "source": [
        "# 고유값 분해의 곱으로 원래 공분산 행렬을 구하는 또다른 방법 (2) - np.dot 중첩하여 활용\n",
        "np.dot(np.dot(Eigenvector, mat), Eigenvector.T)"
      ]
    },
    {
      "cell_type": "markdown",
      "metadata": {
        "id": "N4t2RjoNPgss"
      },
      "source": [
        "### 1-5) 마지막으로 고유 벡터 축으로 값을 변환합니다\n",
        "\n",
        "\n",
        "https://docs.scipy.org/doc/numpy/reference/generated/numpy.concatenate.html"
      ]
    },
    {
      "cell_type": "code",
      "execution_count": 35,
      "metadata": {
        "id": "HkhBLg0jPgss"
      },
      "outputs": [],
      "source": [
        "def new_coordinates(X, eigenvectors):\n",
        "    for i in range(eigenvectors.shape[0]):\n",
        "        if i == 0:\n",
        "            temp = [X.dot(eigenvectors.T[i])]\n",
        "        else:\n",
        "            temp = np.concatenate((temp, [X.dot(eigenvectors.T[i])]), axis = 0)\n",
        "    return temp.T\n",
        "\n",
        "# 모든 고유 벡터 축으로 데이터를 projection한 값입니다"
      ]
    },
    {
      "cell_type": "markdown",
      "metadata": {
        "id": "B7c1o5URPgst"
      },
      "source": [
        "# 2) PCA를 구현해보기\n",
        "\n",
        "위의 과정을 하나의 함수로 표현해주세요!\n",
        "\n",
        "1)에서 진행한 과정을 그대로 가져오면 됩니다..! , \n",
        "\n",
        "위에서 만든 함수(new_coordinate)도 가져오셔서 사용해도 좋아요!\n",
        "\n",
        "+하지만 이 함수는 number이라는 인자를 받아서 pca에서 주성분 개수를 고려하도록 합니다!\n",
        "\n",
        "고유값이 큰 축 순서로 정렬하는 과정 + 주성분 개수 number을 고려해야한다는 점을 유의해서 함수를 정의해주세요\n"
      ]
    },
    {
      "cell_type": "code",
      "execution_count": 46,
      "metadata": {
        "id": "5qOrSvvZPgst"
      },
      "outputs": [],
      "source": [
        "from sklearn.preprocessing import StandardScaler\n",
        "\n",
        "def MYPCA(X, number):\n",
        "    \n",
        "    scaler = StandardScaler()\n",
        "    X_std = scaler.fit_transform(X)    \n",
        "    features = X_std.T     \n",
        "\n",
        "    cov_matrix = np.cov(features)\n",
        "    \n",
        "    Eigenvalue, Eigenvector = lin.eig(cov_matrix)\n",
        "    \n",
        "    df = pd.DataFrame(new_coordinates(X_std, Eigenvector))     \n",
        "    \n",
        "    eigenvalues_sorted = sorted(Eigenvalue)     \n",
        "    eigenvalues_sorted.reverse()     \n",
        "\n",
        "    index = []\n",
        "    for i in range(number):\n",
        "        value = eigenvalues_sorted[i]\n",
        "        index.append(list(Eigenvalue).index(value))\n",
        "        \n",
        "    return np.array(df[index]) "
      ]
    },
    {
      "cell_type": "code",
      "execution_count": 47,
      "metadata": {
        "id": "XAtXIzPHPgst",
        "outputId": "3af71f15-bbd7-4b3f-e091-d8f7abb4c960",
        "scrolled": true,
        "colab": {
          "base_uri": "https://localhost:8080/"
        }
      },
      "outputs": [
        {
          "output_type": "execute_result",
          "data": {
            "text/plain": [
              "array([[ 0.31019368, -1.08215716, -0.07983642],\n",
              "       [ 1.28092404, -0.43132556,  0.13533091],\n",
              "       [ 1.38766381,  0.78428014, -0.12911446],\n",
              "       [ 0.95087515, -1.15737142,  1.6495519 ],\n",
              "       [ 1.84222365,  0.88189889,  0.11493111],\n",
              "       [-1.12563709, -0.52680338,  0.06564012],\n",
              "       [-2.71174416,  0.63290138,  0.71195473],\n",
              "       [-0.03100441, -0.20059783, -0.50339479],\n",
              "       [ 2.29618509,  0.07661447,  0.01087174],\n",
              "       [-0.61585248, -0.205764  ,  1.82651199],\n",
              "       [-1.73320252,  1.29971699,  0.09045178],\n",
              "       [-0.82366049, -0.57164535, -0.27123176],\n",
              "       [ 0.75619512,  0.73995175, -0.76710616],\n",
              "       [-0.42344386,  0.26555394, -1.41533681],\n",
              "       [-0.39581307, -1.64646874,  0.24104031],\n",
              "       [-0.88581498,  0.15195119, -0.82271209],\n",
              "       [ 0.24587691,  0.39139878, -1.15801831],\n",
              "       [ 0.14741103, -1.22874561, -0.03110396],\n",
              "       [-0.7161265 , -0.56781471, -0.86180345],\n",
              "       [ 0.24475107,  2.39442622,  1.19337361]])"
            ]
          },
          "metadata": {},
          "execution_count": 47
        }
      ],
      "source": [
        "MYPCA(X,3)"
      ]
    },
    {
      "cell_type": "markdown",
      "metadata": {
        "id": "Q8E2iMssPgsu"
      },
      "source": [
        "# 3) sklearn이랑 비교를 해보기\n",
        "\n",
        "https://scikit-learn.org/stable/modules/generated/sklearn.decomposition.PCA.html 를 참고하시면 도움이 될거에요"
      ]
    },
    {
      "cell_type": "code",
      "execution_count": 48,
      "metadata": {
        "id": "YLelmhAXPgsu",
        "colab": {
          "base_uri": "https://localhost:8080/"
        },
        "outputId": "e37f4291-a37c-491b-df1d-181ba365a0df"
      },
      "outputs": [
        {
          "output_type": "execute_result",
          "data": {
            "text/plain": [
              "array([[-0.31019368, -1.08215716, -0.07983642],\n",
              "       [-1.28092404, -0.43132556,  0.13533091],\n",
              "       [-1.38766381,  0.78428014, -0.12911446],\n",
              "       [-0.95087515, -1.15737142,  1.6495519 ],\n",
              "       [-1.84222365,  0.88189889,  0.11493111],\n",
              "       [ 1.12563709, -0.52680338,  0.06564012],\n",
              "       [ 2.71174416,  0.63290138,  0.71195473],\n",
              "       [ 0.03100441, -0.20059783, -0.50339479],\n",
              "       [-2.29618509,  0.07661447,  0.01087174],\n",
              "       [ 0.61585248, -0.205764  ,  1.82651199],\n",
              "       [ 1.73320252,  1.29971699,  0.09045178],\n",
              "       [ 0.82366049, -0.57164535, -0.27123176],\n",
              "       [-0.75619512,  0.73995175, -0.76710616],\n",
              "       [ 0.42344386,  0.26555394, -1.41533681],\n",
              "       [ 0.39581307, -1.64646874,  0.24104031],\n",
              "       [ 0.88581498,  0.15195119, -0.82271209],\n",
              "       [-0.24587691,  0.39139878, -1.15801831],\n",
              "       [-0.14741103, -1.22874561, -0.03110396],\n",
              "       [ 0.7161265 , -0.56781471, -0.86180345],\n",
              "       [-0.24475107,  2.39442622,  1.19337361]])"
            ]
          },
          "metadata": {},
          "execution_count": 48
        }
      ],
      "source": [
        "from sklearn.decomposition import PCA\n",
        "\n",
        "pca = PCA(n_components = 3)     # 주성분 개수 3개\n",
        "sklearnPCA = pca.fit_transform(X_std)     # 스케일링된 데이터인 X_std로 PCA 모델에 fit & transform!\n",
        "sklearnPCA"
      ]
    },
    {
      "cell_type": "code",
      "execution_count": 50,
      "metadata": {
        "id": "4LuSOZgVPgsu",
        "outputId": "4700b04f-682c-4215-f6b4-7d2a3bb6e72b",
        "colab": {
          "base_uri": "https://localhost:8080/"
        }
      },
      "outputs": [
        {
          "output_type": "execute_result",
          "data": {
            "text/plain": [
              "array([[ 0.31019368, -1.08215716, -0.07983642],\n",
              "       [ 1.28092404, -0.43132556,  0.13533091],\n",
              "       [ 1.38766381,  0.78428014, -0.12911446],\n",
              "       [ 0.95087515, -1.15737142,  1.6495519 ],\n",
              "       [ 1.84222365,  0.88189889,  0.11493111],\n",
              "       [-1.12563709, -0.52680338,  0.06564012],\n",
              "       [-2.71174416,  0.63290138,  0.71195473],\n",
              "       [-0.03100441, -0.20059783, -0.50339479],\n",
              "       [ 2.29618509,  0.07661447,  0.01087174],\n",
              "       [-0.61585248, -0.205764  ,  1.82651199],\n",
              "       [-1.73320252,  1.29971699,  0.09045178],\n",
              "       [-0.82366049, -0.57164535, -0.27123176],\n",
              "       [ 0.75619512,  0.73995175, -0.76710616],\n",
              "       [-0.42344386,  0.26555394, -1.41533681],\n",
              "       [-0.39581307, -1.64646874,  0.24104031],\n",
              "       [-0.88581498,  0.15195119, -0.82271209],\n",
              "       [ 0.24587691,  0.39139878, -1.15801831],\n",
              "       [ 0.14741103, -1.22874561, -0.03110396],\n",
              "       [-0.7161265 , -0.56781471, -0.86180345],\n",
              "       [ 0.24475107,  2.39442622,  1.19337361]])"
            ]
          },
          "metadata": {},
          "execution_count": 50
        }
      ],
      "source": [
        "MYPCA(X,3)\n",
        "# 부호가 다름을 확인할 수 있는데 이는 벡터의 방향이 반대인것뿐이기 때문에 MYPCA 은 잘 실행되었다고 할 수 있다."
      ]
    },
    {
      "cell_type": "code",
      "source": [
        ""
      ],
      "metadata": {
        "id": "xOWHa954dytW"
      },
      "execution_count": 40,
      "outputs": []
    }
  ],
  "metadata": {
    "colab": {
      "name": "4주차_DR1_김성우.ipynb",
      "provenance": [],
      "collapsed_sections": [],
      "include_colab_link": true
    },
    "kernelspec": {
      "display_name": "Python 3 (ipykernel)",
      "language": "python",
      "name": "python3"
    },
    "language_info": {
      "codemirror_mode": {
        "name": "ipython",
        "version": 3
      },
      "file_extension": ".py",
      "mimetype": "text/x-python",
      "name": "python",
      "nbconvert_exporter": "python",
      "pygments_lexer": "ipython3",
      "version": "3.8.6"
    }
  },
  "nbformat": 4,
  "nbformat_minor": 0
}