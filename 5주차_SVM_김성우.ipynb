{
  "cells": [
    {
      "cell_type": "markdown",
      "id": "9ad88f3e",
      "metadata": {
        "id": "9ad88f3e"
      },
      "source": [
        "# Multiclass SVM 구현"
      ]
    },
    {
      "cell_type": "code",
      "execution_count": 90,
      "id": "1ee53277",
      "metadata": {
        "id": "1ee53277"
      },
      "outputs": [],
      "source": [
        "import numpy as np\n",
        "import pandas as pd\n",
        "import matplotlib.pyplot as plt\n",
        "import seaborn as sns\n",
        "from sklearn.svm import SVC\n",
        "from sklearn.model_selection import train_test_split\n",
        "from sklearn.pipeline import Pipeline\n",
        "from sklearn.preprocessing import StandardScaler\n",
        "from sklearn.metrics import accuracy_score\n",
        "from itertools import combinations"
      ]
    },
    {
      "cell_type": "code",
      "source": [
        "#IRIS 데이터 로드\n",
        "iris =  sns.load_dataset('iris') \n",
        "X= iris.iloc[:,:4] #학습할데이터\n",
        "y = iris.iloc[:,-1] #타겟\n",
        "print(y)"
      ],
      "metadata": {
        "colab": {
          "base_uri": "https://localhost:8080/"
        },
        "id": "QMDS0Cd2e42O",
        "outputId": "407c8c57-99e0-4a75-d626-4a549a6cc881"
      },
      "id": "QMDS0Cd2e42O",
      "execution_count": 91,
      "outputs": [
        {
          "output_type": "stream",
          "name": "stdout",
          "text": [
            "0         setosa\n",
            "1         setosa\n",
            "2         setosa\n",
            "3         setosa\n",
            "4         setosa\n",
            "         ...    \n",
            "145    virginica\n",
            "146    virginica\n",
            "147    virginica\n",
            "148    virginica\n",
            "149    virginica\n",
            "Name: species, Length: 150, dtype: object\n"
          ]
        }
      ]
    },
    {
      "cell_type": "code",
      "execution_count": 92,
      "id": "57c67bc8",
      "metadata": {
        "id": "57c67bc8"
      },
      "outputs": [],
      "source": [
        "X_train, X_test, y_train, y_test = train_test_split(X, y, test_size=0.2, random_state=48)"
      ]
    },
    {
      "cell_type": "code",
      "execution_count": 93,
      "id": "88a4203d",
      "metadata": {
        "id": "88a4203d"
      },
      "outputs": [],
      "source": [
        "def standardization(train, test):\n",
        "    scaler = StandardScaler()\n",
        "    train = scaler.fit_transform(train)\n",
        "    test = scaler.transform(test)\n",
        "    return train, test\n",
        "\n",
        "X_train, X_test = standardization(X_train, X_test)"
      ]
    },
    {
      "cell_type": "code",
      "execution_count": 94,
      "id": "403590f5",
      "metadata": {
        "colab": {
          "base_uri": "https://localhost:8080/"
        },
        "id": "403590f5",
        "outputId": "d80f29dc-953b-4168-f821-a81f7e541dc9"
      },
      "outputs": [
        {
          "output_type": "execute_result",
          "data": {
            "text/plain": [
              "array([[ 0.78522493,  0.32015325,  0.77221097,  1.04726529],\n",
              "       [-0.26563371, -1.29989934,  0.0982814 , -0.11996537],\n",
              "       [ 0.43493872,  0.78302542,  0.94069336,  1.43634218],\n",
              "       [-0.84944407,  0.78302542, -1.24957775, -1.28719604],\n",
              "       [-0.38239578, -1.7627715 ,  0.15444219,  0.13941922],\n",
              "       [ 0.55170079, -0.374155  ,  1.05301496,  0.7878807 ],\n",
              "       [ 0.31817664, -0.14271892,  0.65988937,  0.7878807 ],\n",
              "       [ 0.20141457, -0.374155  ,  0.43524618,  0.39880381],\n",
              "       [-1.66677857, -0.14271892, -1.36189934, -1.28719604],\n",
              "       [-0.14887164, -0.60559109,  0.21060299,  0.13941922],\n",
              "       [-0.14887164, -1.06846325, -0.12636179, -0.24965767],\n",
              "       [ 0.31817664, -0.60559109,  0.15444219,  0.13941922],\n",
              "       [ 0.66846286, -0.83702717,  0.88453256,  0.91757299],\n",
              "       [ 0.0846525 , -0.14271892,  0.77221097,  0.7878807 ],\n",
              "       [-0.49915786, -0.14271892,  0.43524618,  0.39880381],\n",
              "       [-0.26563371, -0.60559109,  0.65988937,  1.04726529],\n",
              "       [ 2.18636979,  1.70876975,  1.67078373,  1.30664988],\n",
              "       [-0.49915786,  1.94020584, -1.13725615, -1.02781144],\n",
              "       [-0.96620614,  1.0144615 , -1.36189934, -1.15750374],\n",
              "       [ 1.60255943,  0.32015325,  1.27765815,  0.7878807 ],\n",
              "       [-0.84944407,  1.70876975, -1.02493456, -1.02781144],\n",
              "       [ 0.901987  , -0.14271892,  0.37908538,  0.26911151],\n",
              "       [-1.19973028,  0.78302542, -1.02493456, -1.28719604],\n",
              "       [-0.61591993,  1.47733367, -1.24957775, -1.28719604],\n",
              "       [-0.49915786,  1.47733367, -1.24957775, -1.28719604],\n",
              "       [-0.03210957, -0.83702717,  0.77221097,  0.91757299],\n",
              "       [-1.31649236,  0.32015325, -1.19341695, -1.28719604],\n",
              "       [ 1.25227322,  0.08871717,  0.94069336,  1.17695758],\n",
              "       [-1.08296821,  0.08871717, -1.24957775, -1.41688833],\n",
              "       [-1.08296821, -1.29989934,  0.43524618,  0.6581884 ],\n",
              "       [ 0.43493872, -0.374155  ,  0.32292459,  0.13941922],\n",
              "       [ 1.60255943,  1.24589758,  1.33381894,  1.69572677],\n",
              "       [ 0.31817664, -0.374155  ,  0.54756778,  0.26911151],\n",
              "       [ 1.83608357, -0.60559109,  1.33381894,  0.91757299],\n",
              "       [-0.03210957, -0.83702717,  0.0982814 ,  0.00972692],\n",
              "       [ 0.20141457, -1.99420759,  0.71605017,  0.39880381],\n",
              "       [ 1.01874907,  0.08871717,  1.05301496,  1.56603447],\n",
              "       [-0.84944407,  1.0144615 , -1.30573855, -1.15750374],\n",
              "       [-0.14887164, -0.14271892,  0.26676379,  0.00972692],\n",
              "       [-0.38239578, -1.53133542,  0.0421206 , -0.11996537],\n",
              "       [ 0.55170079, -1.29989934,  0.71605017,  0.91757299],\n",
              "       [ 1.48579736, -0.14271892,  1.22149735,  1.17695758],\n",
              "       [-0.38239578, -1.06846325,  0.37908538,  0.00972692],\n",
              "       [-0.96620614, -1.7627715 , -0.23868339, -0.24965767],\n",
              "       [ 1.25227322,  0.08871717,  0.77221097,  1.43634218],\n",
              "       [ 0.66846286, -0.60559109,  1.05301496,  1.17695758],\n",
              "       [ 0.43493872, -1.99420759,  0.43524618,  0.39880381],\n",
              "       [-0.14887164, -0.60559109,  0.43524618,  0.13941922],\n",
              "       [-0.732682  , -0.83702717,  0.0982814 ,  0.26911151],\n",
              "       [ 2.06960772, -0.14271892,  1.61462293,  1.17695758],\n",
              "       [ 1.13551115, -0.60559109,  0.60372857,  0.26911151],\n",
              "       [-0.84944407, -1.29989934, -0.40716578, -0.11996537],\n",
              "       [-0.14887164, -1.29989934,  0.71605017,  1.04726529],\n",
              "       [ 0.66846286, -0.374155  ,  0.32292459,  0.13941922],\n",
              "       [ 1.01874907,  0.08871717,  0.37908538,  0.26911151],\n",
              "       [-0.26563371, -0.83702717,  0.26676379,  0.13941922],\n",
              "       [ 1.25227322,  0.08871717,  0.65988937,  0.39880381],\n",
              "       [-0.84944407,  0.55158933, -1.13725615, -0.89811915],\n",
              "       [-1.08296821, -0.14271892, -1.30573855, -1.28719604],\n",
              "       [ 0.20141457, -0.83702717,  0.77221097,  0.52849611],\n",
              "       [-1.08296821, -1.53133542, -0.23868339, -0.24965767],\n",
              "       [-0.03210957,  2.17164192, -1.41806014, -1.28719604],\n",
              "       [-0.96620614,  1.0144615 , -1.19341695, -0.76842685],\n",
              "       [ 0.55170079, -0.83702717,  0.65988937,  0.7878807 ],\n",
              "       [ 1.7193215 , -0.374155  ,  1.44614054,  0.7878807 ],\n",
              "       [-0.732682  ,  2.403078  , -1.24957775, -1.41688833],\n",
              "       [-0.14887164,  3.09738625, -1.24957775, -1.02781144],\n",
              "       [ 1.13551115, -0.14271892,  0.99685416,  1.17695758],\n",
              "       [-1.43325443,  0.08871717, -1.24957775, -1.28719604],\n",
              "       [-0.03210957, -0.83702717,  0.21060299, -0.24965767],\n",
              "       [ 1.01874907, -0.14271892,  0.82837177,  1.43634218],\n",
              "       [ 1.36903529,  0.32015325,  0.54756778,  0.26911151],\n",
              "       [-0.96620614,  0.32015325, -1.41806014, -1.28719604],\n",
              "       [-0.96620614,  0.78302542, -1.24957775, -1.28719604],\n",
              "       [ 0.55170079,  0.55158933,  1.27765815,  1.69572677],\n",
              "       [ 2.18636979, -0.60559109,  1.67078373,  1.04726529],\n",
              "       [ 0.0846525 , -0.14271892,  0.26676379,  0.39880381],\n",
              "       [-1.31649236,  0.32015325, -1.36189934, -1.28719604],\n",
              "       [ 0.66846286,  0.32015325,  0.88453256,  1.43634218],\n",
              "       [-0.96620614,  0.78302542, -1.19341695, -1.02781144],\n",
              "       [ 0.20141457,  0.78302542,  0.43524618,  0.52849611],\n",
              "       [-1.19973028, -0.14271892, -1.30573855, -1.41688833],\n",
              "       [ 1.01874907,  0.55158933,  1.10917575,  1.17695758],\n",
              "       [ 0.78522493, -0.60559109,  0.49140698,  0.39880381],\n",
              "       [-1.43325443,  1.24589758, -1.53038174, -1.28719604],\n",
              "       [-0.03210957, -0.60559109,  0.77221097,  1.56603447],\n",
              "       [-1.78354064, -0.14271892, -1.47422094, -1.41688833],\n",
              "       [ 1.01874907, -1.29989934,  1.16533655,  0.7878807 ],\n",
              "       [-1.08296821,  1.24589758, -1.30573855, -1.41688833],\n",
              "       [-0.49915786,  1.94020584, -1.36189934, -1.02781144],\n",
              "       [-1.43325443,  0.32015325, -1.30573855, -1.28719604],\n",
              "       [-0.03210957, -0.83702717,  0.77221097,  0.91757299],\n",
              "       [ 0.55170079, -0.60559109,  0.77221097,  0.39880381],\n",
              "       [-0.96620614,  0.55158933, -1.30573855, -1.28719604],\n",
              "       [ 2.41989393,  1.70876975,  1.50230134,  1.04726529],\n",
              "       [-1.66677857,  0.32015325, -1.36189934, -1.28719604],\n",
              "       [-1.19973028, -0.14271892, -1.30573855, -1.15750374],\n",
              "       [ 1.01874907,  0.55158933,  1.10917575,  1.69572677],\n",
              "       [-0.96620614, -2.45707976, -0.12636179, -0.24965767],\n",
              "       [-0.732682  ,  1.0144615 , -1.24957775, -1.28719604],\n",
              "       [ 2.18636979, -1.06846325,  1.78310533,  1.43634218],\n",
              "       [ 1.13551115,  0.32015325,  1.22149735,  1.43634218],\n",
              "       [-0.96620614, -0.14271892, -1.19341695, -1.28719604],\n",
              "       [-0.84944407,  1.47733367, -1.24957775, -1.02781144],\n",
              "       [ 2.18636979, -0.14271892,  1.33381894,  1.43634218],\n",
              "       [-0.14887164,  1.70876975, -1.13725615, -1.15750374],\n",
              "       [-0.26563371, -0.14271892,  0.43524618,  0.39880381],\n",
              "       [-1.19973028,  0.08871717, -1.19341695, -1.28719604],\n",
              "       [ 0.78522493, -0.14271892,  1.16533655,  1.30664988],\n",
              "       [ 0.901987  , -0.374155  ,  0.49140698,  0.13941922],\n",
              "       [-0.732682  ,  0.78302542, -1.30573855, -1.28719604],\n",
              "       [-0.84944407,  1.70876975, -1.19341695, -1.28719604],\n",
              "       [-1.43325443,  0.78302542, -1.30573855, -1.15750374],\n",
              "       [-0.03210957, -1.06846325,  0.15444219,  0.00972692],\n",
              "       [-1.08296821,  0.08871717, -1.24957775, -1.28719604],\n",
              "       [-0.26563371, -0.374155  , -0.070201  ,  0.13941922],\n",
              "       [ 0.31817664, -0.14271892,  0.49140698,  0.26911151],\n",
              "       [-0.38239578, -1.53133542, -0.0140402 , -0.24965767],\n",
              "       [ 0.66846286,  0.32015325,  0.43524618,  0.39880381],\n",
              "       [-0.84944407,  1.0144615 , -1.30573855, -1.28719604]])"
            ]
          },
          "metadata": {},
          "execution_count": 94
        }
      ],
      "source": [
        "X_train"
      ]
    },
    {
      "cell_type": "code",
      "execution_count": 95,
      "id": "9861d8a6",
      "metadata": {
        "colab": {
          "base_uri": "https://localhost:8080/"
        },
        "id": "9861d8a6",
        "outputId": "ab7ae70a-e054-4de7-996b-11ebdf4b5258"
      },
      "outputs": [
        {
          "output_type": "execute_result",
          "data": {
            "text/plain": [
              "array([[-0.14887164, -0.374155  ,  0.26676379,  0.13941922],\n",
              "       [ 0.31817664, -0.60559109,  0.54756778,  0.00972692],\n",
              "       [ 0.31817664, -1.06846325,  1.05301496,  0.26911151],\n",
              "       [-1.5500165 , -1.7627715 , -1.36189934, -1.15750374],\n",
              "       [ 0.0846525 ,  0.32015325,  0.60372857,  0.7878807 ],\n",
              "       [ 0.78522493, -0.14271892,  0.99685416,  0.7878807 ],\n",
              "       [-0.84944407,  1.70876975, -1.24957775, -1.15750374],\n",
              "       [ 0.20141457, -0.14271892,  0.60372857,  0.7878807 ],\n",
              "       [-0.38239578,  2.63451409, -1.30573855, -1.28719604],\n",
              "       [-0.38239578, -1.29989934,  0.15444219,  0.13941922],\n",
              "       [ 0.66846286,  0.08871717,  0.99685416,  0.7878807 ],\n",
              "       [-0.38239578,  1.0144615 , -1.36189934, -1.28719604],\n",
              "       [-0.49915786,  0.78302542, -1.13725615, -1.28719604],\n",
              "       [ 0.43493872, -0.60559109,  0.60372857,  0.7878807 ],\n",
              "       [ 0.55170079, -1.7627715 ,  0.37908538,  0.13941922],\n",
              "       [ 0.55170079,  0.55158933,  0.54756778,  0.52849611],\n",
              "       [-1.19973028,  0.78302542, -1.19341695, -1.28719604],\n",
              "       [ 0.20141457, -1.99420759,  0.15444219, -0.24965767],\n",
              "       [ 0.55170079, -1.29989934,  0.65988937,  0.39880381],\n",
              "       [ 1.25227322,  0.32015325,  1.10917575,  1.43634218],\n",
              "       [-1.66677857, -0.374155  , -1.30573855, -1.28719604],\n",
              "       [ 0.78522493, -0.14271892,  0.82837177,  1.04726529],\n",
              "       [ 1.01874907, -0.14271892,  0.71605017,  0.6581884 ],\n",
              "       [ 1.01874907,  0.08871717,  0.54756778,  0.39880381],\n",
              "       [ 1.60255943, -0.14271892,  1.16533655,  0.52849611],\n",
              "       [-0.96620614,  1.24589758, -1.30573855, -1.28719604],\n",
              "       [-0.49915786,  0.78302542, -1.24957775, -1.02781144],\n",
              "       [ 0.55170079,  0.78302542,  1.05301496,  1.56603447],\n",
              "       [ 0.66846286, -0.60559109,  1.05301496,  1.30664988],\n",
              "       [-0.26563371, -0.14271892,  0.21060299,  0.13941922]])"
            ]
          },
          "metadata": {},
          "execution_count": 95
        }
      ],
      "source": [
        "X_test"
      ]
    },
    {
      "cell_type": "code",
      "source": [
        "classes = y_train.unique()\n",
        "classes"
      ],
      "metadata": {
        "colab": {
          "base_uri": "https://localhost:8080/"
        },
        "id": "7AT9SyEjpD8G",
        "outputId": "a6fbb023-2972-4c57-ea0d-5c75048b84b1"
      },
      "id": "7AT9SyEjpD8G",
      "execution_count": 96,
      "outputs": [
        {
          "output_type": "execute_result",
          "data": {
            "text/plain": [
              "array(['virginica', 'versicolor', 'setosa'], dtype=object)"
            ]
          },
          "metadata": {},
          "execution_count": 96
        }
      ]
    },
    {
      "cell_type": "code",
      "execution_count": 97,
      "id": "11719030",
      "metadata": {
        "id": "11719030"
      },
      "outputs": [],
      "source": [
        "num_classes = len(classes)\n",
        "kernel = 'rbf'\n",
        "C = 1\n",
        "gamma = 1"
      ]
    },
    {
      "cell_type": "code",
      "source": [
        "# 가능한 경우들을 위해 permutations 에서 combinations 이용.\n",
        "Cases = num_classes*(num_classes-1)//2\n",
        "Clfs = [{'class' : None,'clf' : SVC(kernel = kernel, gamma = gamma, C = C)} for _ in range(Cases)]"
      ],
      "metadata": {
        "id": "KV11qYkQe687"
      },
      "id": "KV11qYkQe687",
      "execution_count": 98,
      "outputs": []
    },
    {
      "cell_type": "code",
      "source": [
        "i = 0\n",
        "grid = []\n",
        "for c in combinations(classes, 2):\n",
        "    idx = (y_train == c[0]) | (y_train == c[1])\n",
        "    Clfs[i]['clf'].fit(X_train[idx], y_train[idx])\n",
        "    Clfs[i]['class'] = c\n",
        "    grid.append(c)\n",
        "    i += 1"
      ],
      "metadata": {
        "id": "MdimayXMe7AB"
      },
      "id": "MdimayXMe7AB",
      "execution_count": 99,
      "outputs": []
    },
    {
      "cell_type": "code",
      "source": [
        "preds_df = pd.DataFrame([svm['clf'].predict(X_test) for svm in Clfs]).T\n",
        "decisions = pd.DataFrame([svm['clf'].decision_function(X_test) for svm in Clfs]).T \n",
        "decisions.columns = grid\n",
        "decisions"
      ],
      "metadata": {
        "colab": {
          "base_uri": "https://localhost:8080/",
          "height": 990
        },
        "id": "H3BdieINnjOf",
        "outputId": "413d6f09-deb1-47e5-afe6-9af4851b70ce"
      },
      "id": "H3BdieINnjOf",
      "execution_count": 100,
      "outputs": [
        {
          "output_type": "execute_result",
          "data": {
            "text/plain": [
              "    (virginica, versicolor)  (virginica, setosa)  (versicolor, setosa)\n",
              "0                 -0.623474             0.429296              0.891338\n",
              "1                 -0.477598             0.632637              1.071622\n",
              "2                 -0.199587             0.884016              1.232032\n",
              "3                 -0.816122            -0.476538             -0.152223\n",
              "4                  0.050279             0.708855              0.927655\n",
              "5                  0.383792             1.015004              1.137268\n",
              "6                 -0.455297            -1.059373             -1.079478\n",
              "7                  0.006216             0.828630              1.091255\n",
              "8                 -0.208432            -0.894255             -0.926495\n",
              "9                 -0.802101             0.462727              1.018599\n",
              "10                 0.377886             0.967427              1.085327\n",
              "11                -0.648424            -1.026936             -0.967824\n",
              "12                -0.746434            -0.988974             -0.880167\n",
              "13                 0.009632             0.930646              1.208274\n",
              "14                -0.485863             0.711211              1.159516\n",
              "15                 0.093198             0.654477              0.847654\n",
              "16                -0.690436            -1.086250             -1.056051\n",
              "17                -0.772786             0.479600              1.023671\n",
              "18                -0.238130             0.873813              1.241144\n",
              "19                 0.925905             1.067772              0.942710\n",
              "20                -0.805854            -0.900575             -0.768389\n",
              "21                 0.457135             1.034327              1.129603\n",
              "22                 0.282251             0.944117              1.103730\n",
              "23                 0.109814             0.784895              0.995012\n",
              "24                 0.568959             0.993424              1.011673\n",
              "25                -0.569668            -1.110818             -1.122907\n",
              "26                -0.746191            -0.959028             -0.836503\n",
              "27                 0.779869             0.931327              0.849404\n",
              "28                 0.555799             1.123119              1.174277\n",
              "29                -0.625022             0.324968              0.762227"
            ],
            "text/html": [
              "\n",
              "  <div id=\"df-e4db53ad-682a-4d25-bb7d-35f4b7be8015\">\n",
              "    <div class=\"colab-df-container\">\n",
              "      <div>\n",
              "<style scoped>\n",
              "    .dataframe tbody tr th:only-of-type {\n",
              "        vertical-align: middle;\n",
              "    }\n",
              "\n",
              "    .dataframe tbody tr th {\n",
              "        vertical-align: top;\n",
              "    }\n",
              "\n",
              "    .dataframe thead th {\n",
              "        text-align: right;\n",
              "    }\n",
              "</style>\n",
              "<table border=\"1\" class=\"dataframe\">\n",
              "  <thead>\n",
              "    <tr style=\"text-align: right;\">\n",
              "      <th></th>\n",
              "      <th>(virginica, versicolor)</th>\n",
              "      <th>(virginica, setosa)</th>\n",
              "      <th>(versicolor, setosa)</th>\n",
              "    </tr>\n",
              "  </thead>\n",
              "  <tbody>\n",
              "    <tr>\n",
              "      <th>0</th>\n",
              "      <td>-0.623474</td>\n",
              "      <td>0.429296</td>\n",
              "      <td>0.891338</td>\n",
              "    </tr>\n",
              "    <tr>\n",
              "      <th>1</th>\n",
              "      <td>-0.477598</td>\n",
              "      <td>0.632637</td>\n",
              "      <td>1.071622</td>\n",
              "    </tr>\n",
              "    <tr>\n",
              "      <th>2</th>\n",
              "      <td>-0.199587</td>\n",
              "      <td>0.884016</td>\n",
              "      <td>1.232032</td>\n",
              "    </tr>\n",
              "    <tr>\n",
              "      <th>3</th>\n",
              "      <td>-0.816122</td>\n",
              "      <td>-0.476538</td>\n",
              "      <td>-0.152223</td>\n",
              "    </tr>\n",
              "    <tr>\n",
              "      <th>4</th>\n",
              "      <td>0.050279</td>\n",
              "      <td>0.708855</td>\n",
              "      <td>0.927655</td>\n",
              "    </tr>\n",
              "    <tr>\n",
              "      <th>5</th>\n",
              "      <td>0.383792</td>\n",
              "      <td>1.015004</td>\n",
              "      <td>1.137268</td>\n",
              "    </tr>\n",
              "    <tr>\n",
              "      <th>6</th>\n",
              "      <td>-0.455297</td>\n",
              "      <td>-1.059373</td>\n",
              "      <td>-1.079478</td>\n",
              "    </tr>\n",
              "    <tr>\n",
              "      <th>7</th>\n",
              "      <td>0.006216</td>\n",
              "      <td>0.828630</td>\n",
              "      <td>1.091255</td>\n",
              "    </tr>\n",
              "    <tr>\n",
              "      <th>8</th>\n",
              "      <td>-0.208432</td>\n",
              "      <td>-0.894255</td>\n",
              "      <td>-0.926495</td>\n",
              "    </tr>\n",
              "    <tr>\n",
              "      <th>9</th>\n",
              "      <td>-0.802101</td>\n",
              "      <td>0.462727</td>\n",
              "      <td>1.018599</td>\n",
              "    </tr>\n",
              "    <tr>\n",
              "      <th>10</th>\n",
              "      <td>0.377886</td>\n",
              "      <td>0.967427</td>\n",
              "      <td>1.085327</td>\n",
              "    </tr>\n",
              "    <tr>\n",
              "      <th>11</th>\n",
              "      <td>-0.648424</td>\n",
              "      <td>-1.026936</td>\n",
              "      <td>-0.967824</td>\n",
              "    </tr>\n",
              "    <tr>\n",
              "      <th>12</th>\n",
              "      <td>-0.746434</td>\n",
              "      <td>-0.988974</td>\n",
              "      <td>-0.880167</td>\n",
              "    </tr>\n",
              "    <tr>\n",
              "      <th>13</th>\n",
              "      <td>0.009632</td>\n",
              "      <td>0.930646</td>\n",
              "      <td>1.208274</td>\n",
              "    </tr>\n",
              "    <tr>\n",
              "      <th>14</th>\n",
              "      <td>-0.485863</td>\n",
              "      <td>0.711211</td>\n",
              "      <td>1.159516</td>\n",
              "    </tr>\n",
              "    <tr>\n",
              "      <th>15</th>\n",
              "      <td>0.093198</td>\n",
              "      <td>0.654477</td>\n",
              "      <td>0.847654</td>\n",
              "    </tr>\n",
              "    <tr>\n",
              "      <th>16</th>\n",
              "      <td>-0.690436</td>\n",
              "      <td>-1.086250</td>\n",
              "      <td>-1.056051</td>\n",
              "    </tr>\n",
              "    <tr>\n",
              "      <th>17</th>\n",
              "      <td>-0.772786</td>\n",
              "      <td>0.479600</td>\n",
              "      <td>1.023671</td>\n",
              "    </tr>\n",
              "    <tr>\n",
              "      <th>18</th>\n",
              "      <td>-0.238130</td>\n",
              "      <td>0.873813</td>\n",
              "      <td>1.241144</td>\n",
              "    </tr>\n",
              "    <tr>\n",
              "      <th>19</th>\n",
              "      <td>0.925905</td>\n",
              "      <td>1.067772</td>\n",
              "      <td>0.942710</td>\n",
              "    </tr>\n",
              "    <tr>\n",
              "      <th>20</th>\n",
              "      <td>-0.805854</td>\n",
              "      <td>-0.900575</td>\n",
              "      <td>-0.768389</td>\n",
              "    </tr>\n",
              "    <tr>\n",
              "      <th>21</th>\n",
              "      <td>0.457135</td>\n",
              "      <td>1.034327</td>\n",
              "      <td>1.129603</td>\n",
              "    </tr>\n",
              "    <tr>\n",
              "      <th>22</th>\n",
              "      <td>0.282251</td>\n",
              "      <td>0.944117</td>\n",
              "      <td>1.103730</td>\n",
              "    </tr>\n",
              "    <tr>\n",
              "      <th>23</th>\n",
              "      <td>0.109814</td>\n",
              "      <td>0.784895</td>\n",
              "      <td>0.995012</td>\n",
              "    </tr>\n",
              "    <tr>\n",
              "      <th>24</th>\n",
              "      <td>0.568959</td>\n",
              "      <td>0.993424</td>\n",
              "      <td>1.011673</td>\n",
              "    </tr>\n",
              "    <tr>\n",
              "      <th>25</th>\n",
              "      <td>-0.569668</td>\n",
              "      <td>-1.110818</td>\n",
              "      <td>-1.122907</td>\n",
              "    </tr>\n",
              "    <tr>\n",
              "      <th>26</th>\n",
              "      <td>-0.746191</td>\n",
              "      <td>-0.959028</td>\n",
              "      <td>-0.836503</td>\n",
              "    </tr>\n",
              "    <tr>\n",
              "      <th>27</th>\n",
              "      <td>0.779869</td>\n",
              "      <td>0.931327</td>\n",
              "      <td>0.849404</td>\n",
              "    </tr>\n",
              "    <tr>\n",
              "      <th>28</th>\n",
              "      <td>0.555799</td>\n",
              "      <td>1.123119</td>\n",
              "      <td>1.174277</td>\n",
              "    </tr>\n",
              "    <tr>\n",
              "      <th>29</th>\n",
              "      <td>-0.625022</td>\n",
              "      <td>0.324968</td>\n",
              "      <td>0.762227</td>\n",
              "    </tr>\n",
              "  </tbody>\n",
              "</table>\n",
              "</div>\n",
              "      <button class=\"colab-df-convert\" onclick=\"convertToInteractive('df-e4db53ad-682a-4d25-bb7d-35f4b7be8015')\"\n",
              "              title=\"Convert this dataframe to an interactive table.\"\n",
              "              style=\"display:none;\">\n",
              "        \n",
              "  <svg xmlns=\"http://www.w3.org/2000/svg\" height=\"24px\"viewBox=\"0 0 24 24\"\n",
              "       width=\"24px\">\n",
              "    <path d=\"M0 0h24v24H0V0z\" fill=\"none\"/>\n",
              "    <path d=\"M18.56 5.44l.94 2.06.94-2.06 2.06-.94-2.06-.94-.94-2.06-.94 2.06-2.06.94zm-11 1L8.5 8.5l.94-2.06 2.06-.94-2.06-.94L8.5 2.5l-.94 2.06-2.06.94zm10 10l.94 2.06.94-2.06 2.06-.94-2.06-.94-.94-2.06-.94 2.06-2.06.94z\"/><path d=\"M17.41 7.96l-1.37-1.37c-.4-.4-.92-.59-1.43-.59-.52 0-1.04.2-1.43.59L10.3 9.45l-7.72 7.72c-.78.78-.78 2.05 0 2.83L4 21.41c.39.39.9.59 1.41.59.51 0 1.02-.2 1.41-.59l7.78-7.78 2.81-2.81c.8-.78.8-2.07 0-2.86zM5.41 20L4 18.59l7.72-7.72 1.47 1.35L5.41 20z\"/>\n",
              "  </svg>\n",
              "      </button>\n",
              "      \n",
              "  <style>\n",
              "    .colab-df-container {\n",
              "      display:flex;\n",
              "      flex-wrap:wrap;\n",
              "      gap: 12px;\n",
              "    }\n",
              "\n",
              "    .colab-df-convert {\n",
              "      background-color: #E8F0FE;\n",
              "      border: none;\n",
              "      border-radius: 50%;\n",
              "      cursor: pointer;\n",
              "      display: none;\n",
              "      fill: #1967D2;\n",
              "      height: 32px;\n",
              "      padding: 0 0 0 0;\n",
              "      width: 32px;\n",
              "    }\n",
              "\n",
              "    .colab-df-convert:hover {\n",
              "      background-color: #E2EBFA;\n",
              "      box-shadow: 0px 1px 2px rgba(60, 64, 67, 0.3), 0px 1px 3px 1px rgba(60, 64, 67, 0.15);\n",
              "      fill: #174EA6;\n",
              "    }\n",
              "\n",
              "    [theme=dark] .colab-df-convert {\n",
              "      background-color: #3B4455;\n",
              "      fill: #D2E3FC;\n",
              "    }\n",
              "\n",
              "    [theme=dark] .colab-df-convert:hover {\n",
              "      background-color: #434B5C;\n",
              "      box-shadow: 0px 1px 3px 1px rgba(0, 0, 0, 0.15);\n",
              "      filter: drop-shadow(0px 1px 2px rgba(0, 0, 0, 0.3));\n",
              "      fill: #FFFFFF;\n",
              "    }\n",
              "  </style>\n",
              "\n",
              "      <script>\n",
              "        const buttonEl =\n",
              "          document.querySelector('#df-e4db53ad-682a-4d25-bb7d-35f4b7be8015 button.colab-df-convert');\n",
              "        buttonEl.style.display =\n",
              "          google.colab.kernel.accessAllowed ? 'block' : 'none';\n",
              "\n",
              "        async function convertToInteractive(key) {\n",
              "          const element = document.querySelector('#df-e4db53ad-682a-4d25-bb7d-35f4b7be8015');\n",
              "          const dataTable =\n",
              "            await google.colab.kernel.invokeFunction('convertToInteractive',\n",
              "                                                     [key], {});\n",
              "          if (!dataTable) return;\n",
              "\n",
              "          const docLinkHtml = 'Like what you see? Visit the ' +\n",
              "            '<a target=\"_blank\" href=https://colab.research.google.com/notebooks/data_table.ipynb>data table notebook</a>'\n",
              "            + ' to learn more about interactive tables.';\n",
              "          element.innerHTML = '';\n",
              "          dataTable['output_type'] = 'display_data';\n",
              "          await google.colab.output.renderOutput(dataTable, element);\n",
              "          const docLink = document.createElement('div');\n",
              "          docLink.innerHTML = docLinkHtml;\n",
              "          element.appendChild(docLink);\n",
              "        }\n",
              "      </script>\n",
              "    </div>\n",
              "  </div>\n",
              "  "
            ]
          },
          "metadata": {},
          "execution_count": 100
        }
      ]
    },
    {
      "cell_type": "code",
      "source": [
        "## 최종 예측\n",
        "predictions = []\n",
        "for i in range(len(preds_df)):\n",
        "    # 가장 우위인 클래스가 2개인 경우\n",
        "    if preds_df.iloc[i].value_counts().iloc[0] > preds_df.iloc[i].value_counts().iloc[1]:\n",
        "        label = (preds_df.iloc[i].value_counts() / len(preds_df.iloc[i])).index[0]\n",
        "        predictions.append(label)\n",
        "\n",
        "    # 가장 우위인 클래스가 2개 이상인 경우\n",
        "    else:\n",
        "        decision_for_row = {key : 0 for key in classes}\n",
        "        for c, d in zip(decisions.iloc[i].index, decisions.iloc[i]):\n",
        "            if d > 0:\n",
        "                decision_for_row[c[0]] += d\n",
        "            else:\n",
        "                decision_for_row[c[1]] -= d\n",
        "        label = sorted(decision_for_row.items(), key = lambda x : x[1], reverse = True)[0][0]\n",
        "        predictions.append(label)"
      ],
      "metadata": {
        "id": "bYPsy5Hge7Cd"
      },
      "id": "bYPsy5Hge7Cd",
      "execution_count": 101,
      "outputs": []
    },
    {
      "cell_type": "code",
      "source": [
        "y_test"
      ],
      "metadata": {
        "colab": {
          "base_uri": "https://localhost:8080/"
        },
        "id": "qKQWaQkooSsA",
        "outputId": "c63909e6-4879-44af-bf67-9b6598e1911a"
      },
      "id": "qKQWaQkooSsA",
      "execution_count": 102,
      "outputs": [
        {
          "output_type": "execute_result",
          "data": {
            "text/plain": [
              "96     versicolor\n",
              "73     versicolor\n",
              "134     virginica\n",
              "41         setosa\n",
              "70     versicolor\n",
              "116     virginica\n",
              "19         setosa\n",
              "138     virginica\n",
              "33         setosa\n",
              "89     versicolor\n",
              "137     virginica\n",
              "36         setosa\n",
              "20         setosa\n",
              "126     virginica\n",
              "87     versicolor\n",
              "56     versicolor\n",
              "11         setosa\n",
              "62     versicolor\n",
              "72     versicolor\n",
              "120     virginica\n",
              "8          setosa\n",
              "147     virginica\n",
              "77     versicolor\n",
              "86     versicolor\n",
              "129     virginica\n",
              "4          setosa\n",
              "31         setosa\n",
              "136     virginica\n",
              "132     virginica\n",
              "88     versicolor\n",
              "Name: species, dtype: object"
            ]
          },
          "metadata": {},
          "execution_count": 102
        }
      ]
    },
    {
      "cell_type": "code",
      "source": [
        "predictions"
      ],
      "metadata": {
        "colab": {
          "base_uri": "https://localhost:8080/"
        },
        "id": "DZm-UXtYoTvl",
        "outputId": "324facf9-ec4e-4502-a65e-98c1b27dfac7"
      },
      "id": "DZm-UXtYoTvl",
      "execution_count": 103,
      "outputs": [
        {
          "output_type": "execute_result",
          "data": {
            "text/plain": [
              "['versicolor',\n",
              " 'versicolor',\n",
              " 'versicolor',\n",
              " 'setosa',\n",
              " 'virginica',\n",
              " 'virginica',\n",
              " 'setosa',\n",
              " 'virginica',\n",
              " 'setosa',\n",
              " 'versicolor',\n",
              " 'virginica',\n",
              " 'setosa',\n",
              " 'setosa',\n",
              " 'virginica',\n",
              " 'versicolor',\n",
              " 'virginica',\n",
              " 'setosa',\n",
              " 'versicolor',\n",
              " 'versicolor',\n",
              " 'virginica',\n",
              " 'setosa',\n",
              " 'virginica',\n",
              " 'virginica',\n",
              " 'virginica',\n",
              " 'virginica',\n",
              " 'setosa',\n",
              " 'setosa',\n",
              " 'virginica',\n",
              " 'virginica',\n",
              " 'versicolor']"
            ]
          },
          "metadata": {},
          "execution_count": 103
        }
      ]
    },
    {
      "cell_type": "code",
      "source": [
        "accuracy_score(y_test, predictions)"
      ],
      "metadata": {
        "colab": {
          "base_uri": "https://localhost:8080/"
        },
        "id": "uLIyFd-5f9oc",
        "outputId": "9f966899-601e-4dc6-8cb7-95b21612c5a4"
      },
      "id": "uLIyFd-5f9oc",
      "execution_count": 104,
      "outputs": [
        {
          "output_type": "execute_result",
          "data": {
            "text/plain": [
              "0.8333333333333334"
            ]
          },
          "metadata": {},
          "execution_count": 104
        }
      ]
    },
    {
      "cell_type": "code",
      "source": [
        ""
      ],
      "metadata": {
        "id": "PMRCvexmf9qg"
      },
      "id": "PMRCvexmf9qg",
      "execution_count": 104,
      "outputs": []
    }
  ],
  "metadata": {
    "kernelspec": {
      "display_name": "Python 3.9.6 64-bit",
      "language": "python",
      "name": "python3"
    },
    "language_info": {
      "codemirror_mode": {
        "name": "ipython",
        "version": 3
      },
      "file_extension": ".py",
      "mimetype": "text/x-python",
      "name": "python",
      "nbconvert_exporter": "python",
      "pygments_lexer": "ipython3",
      "version": "3.9.6"
    },
    "vscode": {
      "interpreter": {
        "hash": "e4f9a61315a974bc6af80a8a4aafd52abdbd06ef6accb419712864639ff48b47"
      }
    },
    "colab": {
      "name": "5주차_SVM_김성우",
      "provenance": [],
      "collapsed_sections": []
    }
  },
  "nbformat": 4,
  "nbformat_minor": 5
}