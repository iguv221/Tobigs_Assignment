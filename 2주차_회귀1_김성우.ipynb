{
  "cells": [
    {
      "cell_type": "markdown",
      "metadata": {
        "id": "view-in-github",
        "colab_type": "text"
      },
      "source": [
        "<a href=\"https://colab.research.google.com/github/iguv221/Tobigs_Assignment/blob/main/2%EC%A3%BC%EC%B0%A8_%ED%9A%8C%EA%B7%801_%EA%B9%80%EC%84%B1%EC%9A%B0.ipynb\" target=\"_parent\"><img src=\"https://colab.research.google.com/assets/colab-badge.svg\" alt=\"Open In Colab\"/></a>"
      ]
    },
    {
      "cell_type": "markdown",
      "metadata": {
        "id": "HtloJibI_5uB"
      },
      "source": [
        "# 과제 1"
      ]
    },
    {
      "cell_type": "markdown",
      "metadata": {
        "id": "poKqKrLb_5uH"
      },
      "source": [
        "## Matrix 구현 \n",
        "1. Linear Regression에서 쓰이는 **정규방정식**을 행렬로 구현하고, sklearn 혹은 OLS 패키지를 통해 구한 **실제 값과 비교**해주세요.\n",
        "2. LSE에서 쓰이는 Loss Function, **MSE**를 행렬로 구현해 출력해주세요."
      ]
    },
    {
      "cell_type": "markdown",
      "metadata": {
        "id": "MaVCkq3g_5uJ"
      },
      "source": [
        "### Data Load "
      ]
    },
    {
      "cell_type": "code",
      "source": [
        "from google.colab import drive\n",
        "drive.mount('/content/drive')"
      ],
      "metadata": {
        "colab": {
          "base_uri": "https://localhost:8080/"
        },
        "id": "KsG7PkiNAHuk",
        "outputId": "b82dbeda-dd9e-4d65-e1b3-59ceeca3e7e4"
      },
      "execution_count": null,
      "outputs": [
        {
          "output_type": "stream",
          "name": "stdout",
          "text": [
            "Drive already mounted at /content/drive; to attempt to forcibly remount, call drive.mount(\"/content/drive\", force_remount=True).\n"
          ]
        }
      ]
    },
    {
      "cell_type": "code",
      "execution_count": null,
      "metadata": {
        "id": "lX6_aNNU_5uK"
      },
      "outputs": [],
      "source": [
        "import pandas as pd \n",
        "data = pd.read_csv(\"/content/drive/MyDrive/ToBigs/과제 폴더/2주차/18기 2주차 1 Regression 강의자료/과제/assignment1.csv\")"
      ]
    },
    {
      "cell_type": "code",
      "execution_count": null,
      "metadata": {
        "id": "PJVRecL-_5uM",
        "outputId": "55f833b4-d7b8-4b64-baa8-8b6958aab5b4",
        "colab": {
          "base_uri": "https://localhost:8080/",
          "height": 206
        }
      },
      "outputs": [
        {
          "output_type": "execute_result",
          "data": {
            "text/plain": [
              "    y    x1    x2  x3   x4    x5\n",
              "0  10  38.9  64.7   4  868  59.7\n",
              "1  13  41.6  45.3  -4  957  61.4\n",
              "2  11  39.7  74.1   8  786  61.0\n",
              "3   7  37.3  48.0  19  984  67.5\n",
              "4  10  39.5  51.9   6  700  57.2"
            ],
            "text/html": [
              "\n",
              "  <div id=\"df-d4916877-827f-4d5b-ad75-bad2b9edf1f0\">\n",
              "    <div class=\"colab-df-container\">\n",
              "      <div>\n",
              "<style scoped>\n",
              "    .dataframe tbody tr th:only-of-type {\n",
              "        vertical-align: middle;\n",
              "    }\n",
              "\n",
              "    .dataframe tbody tr th {\n",
              "        vertical-align: top;\n",
              "    }\n",
              "\n",
              "    .dataframe thead th {\n",
              "        text-align: right;\n",
              "    }\n",
              "</style>\n",
              "<table border=\"1\" class=\"dataframe\">\n",
              "  <thead>\n",
              "    <tr style=\"text-align: right;\">\n",
              "      <th></th>\n",
              "      <th>y</th>\n",
              "      <th>x1</th>\n",
              "      <th>x2</th>\n",
              "      <th>x3</th>\n",
              "      <th>x4</th>\n",
              "      <th>x5</th>\n",
              "    </tr>\n",
              "  </thead>\n",
              "  <tbody>\n",
              "    <tr>\n",
              "      <th>0</th>\n",
              "      <td>10</td>\n",
              "      <td>38.9</td>\n",
              "      <td>64.7</td>\n",
              "      <td>4</td>\n",
              "      <td>868</td>\n",
              "      <td>59.7</td>\n",
              "    </tr>\n",
              "    <tr>\n",
              "      <th>1</th>\n",
              "      <td>13</td>\n",
              "      <td>41.6</td>\n",
              "      <td>45.3</td>\n",
              "      <td>-4</td>\n",
              "      <td>957</td>\n",
              "      <td>61.4</td>\n",
              "    </tr>\n",
              "    <tr>\n",
              "      <th>2</th>\n",
              "      <td>11</td>\n",
              "      <td>39.7</td>\n",
              "      <td>74.1</td>\n",
              "      <td>8</td>\n",
              "      <td>786</td>\n",
              "      <td>61.0</td>\n",
              "    </tr>\n",
              "    <tr>\n",
              "      <th>3</th>\n",
              "      <td>7</td>\n",
              "      <td>37.3</td>\n",
              "      <td>48.0</td>\n",
              "      <td>19</td>\n",
              "      <td>984</td>\n",
              "      <td>67.5</td>\n",
              "    </tr>\n",
              "    <tr>\n",
              "      <th>4</th>\n",
              "      <td>10</td>\n",
              "      <td>39.5</td>\n",
              "      <td>51.9</td>\n",
              "      <td>6</td>\n",
              "      <td>700</td>\n",
              "      <td>57.2</td>\n",
              "    </tr>\n",
              "  </tbody>\n",
              "</table>\n",
              "</div>\n",
              "      <button class=\"colab-df-convert\" onclick=\"convertToInteractive('df-d4916877-827f-4d5b-ad75-bad2b9edf1f0')\"\n",
              "              title=\"Convert this dataframe to an interactive table.\"\n",
              "              style=\"display:none;\">\n",
              "        \n",
              "  <svg xmlns=\"http://www.w3.org/2000/svg\" height=\"24px\"viewBox=\"0 0 24 24\"\n",
              "       width=\"24px\">\n",
              "    <path d=\"M0 0h24v24H0V0z\" fill=\"none\"/>\n",
              "    <path d=\"M18.56 5.44l.94 2.06.94-2.06 2.06-.94-2.06-.94-.94-2.06-.94 2.06-2.06.94zm-11 1L8.5 8.5l.94-2.06 2.06-.94-2.06-.94L8.5 2.5l-.94 2.06-2.06.94zm10 10l.94 2.06.94-2.06 2.06-.94-2.06-.94-.94-2.06-.94 2.06-2.06.94z\"/><path d=\"M17.41 7.96l-1.37-1.37c-.4-.4-.92-.59-1.43-.59-.52 0-1.04.2-1.43.59L10.3 9.45l-7.72 7.72c-.78.78-.78 2.05 0 2.83L4 21.41c.39.39.9.59 1.41.59.51 0 1.02-.2 1.41-.59l7.78-7.78 2.81-2.81c.8-.78.8-2.07 0-2.86zM5.41 20L4 18.59l7.72-7.72 1.47 1.35L5.41 20z\"/>\n",
              "  </svg>\n",
              "      </button>\n",
              "      \n",
              "  <style>\n",
              "    .colab-df-container {\n",
              "      display:flex;\n",
              "      flex-wrap:wrap;\n",
              "      gap: 12px;\n",
              "    }\n",
              "\n",
              "    .colab-df-convert {\n",
              "      background-color: #E8F0FE;\n",
              "      border: none;\n",
              "      border-radius: 50%;\n",
              "      cursor: pointer;\n",
              "      display: none;\n",
              "      fill: #1967D2;\n",
              "      height: 32px;\n",
              "      padding: 0 0 0 0;\n",
              "      width: 32px;\n",
              "    }\n",
              "\n",
              "    .colab-df-convert:hover {\n",
              "      background-color: #E2EBFA;\n",
              "      box-shadow: 0px 1px 2px rgba(60, 64, 67, 0.3), 0px 1px 3px 1px rgba(60, 64, 67, 0.15);\n",
              "      fill: #174EA6;\n",
              "    }\n",
              "\n",
              "    [theme=dark] .colab-df-convert {\n",
              "      background-color: #3B4455;\n",
              "      fill: #D2E3FC;\n",
              "    }\n",
              "\n",
              "    [theme=dark] .colab-df-convert:hover {\n",
              "      background-color: #434B5C;\n",
              "      box-shadow: 0px 1px 3px 1px rgba(0, 0, 0, 0.15);\n",
              "      filter: drop-shadow(0px 1px 2px rgba(0, 0, 0, 0.3));\n",
              "      fill: #FFFFFF;\n",
              "    }\n",
              "  </style>\n",
              "\n",
              "      <script>\n",
              "        const buttonEl =\n",
              "          document.querySelector('#df-d4916877-827f-4d5b-ad75-bad2b9edf1f0 button.colab-df-convert');\n",
              "        buttonEl.style.display =\n",
              "          google.colab.kernel.accessAllowed ? 'block' : 'none';\n",
              "\n",
              "        async function convertToInteractive(key) {\n",
              "          const element = document.querySelector('#df-d4916877-827f-4d5b-ad75-bad2b9edf1f0');\n",
              "          const dataTable =\n",
              "            await google.colab.kernel.invokeFunction('convertToInteractive',\n",
              "                                                     [key], {});\n",
              "          if (!dataTable) return;\n",
              "\n",
              "          const docLinkHtml = 'Like what you see? Visit the ' +\n",
              "            '<a target=\"_blank\" href=https://colab.research.google.com/notebooks/data_table.ipynb>data table notebook</a>'\n",
              "            + ' to learn more about interactive tables.';\n",
              "          element.innerHTML = '';\n",
              "          dataTable['output_type'] = 'display_data';\n",
              "          await google.colab.output.renderOutput(dataTable, element);\n",
              "          const docLink = document.createElement('div');\n",
              "          docLink.innerHTML = docLinkHtml;\n",
              "          element.appendChild(docLink);\n",
              "        }\n",
              "      </script>\n",
              "    </div>\n",
              "  </div>\n",
              "  "
            ]
          },
          "metadata": {},
          "execution_count": 22
        }
      ],
      "source": [
        "data.head()"
      ]
    },
    {
      "cell_type": "code",
      "execution_count": null,
      "metadata": {
        "id": "Cdf4C5No_5uP",
        "outputId": "78dfbf01-063c-4971-d758-8c5f45777d49",
        "colab": {
          "base_uri": "https://localhost:8080/"
        }
      },
      "outputs": [
        {
          "output_type": "execute_result",
          "data": {
            "text/plain": [
              "(9, 6)"
            ]
          },
          "metadata": {},
          "execution_count": 23
        }
      ],
      "source": [
        "data.shape     # y:(9,1), X:(9,5)"
      ]
    },
    {
      "cell_type": "code",
      "execution_count": null,
      "metadata": {
        "id": "rZuPCz_9_5uQ"
      },
      "outputs": [],
      "source": [
        "X = data.drop([\"y\"], axis=1)\n",
        "y = data.y"
      ]
    },
    {
      "cell_type": "code",
      "execution_count": null,
      "metadata": {
        "id": "sI24Ruws_5uQ"
      },
      "outputs": [],
      "source": [
        "# Matrix 계산을 위해 X와 y를 numpy 형태로 바꾸어줍니다. \n",
        "X = X.to_numpy()\n",
        "y = y.to_numpy()"
      ]
    },
    {
      "cell_type": "code",
      "execution_count": null,
      "metadata": {
        "id": "oIEx1Gk5_5uR",
        "outputId": "25a1fa7c-9820-46fe-b5c7-2ccae4d21f66",
        "colab": {
          "base_uri": "https://localhost:8080/"
        }
      },
      "outputs": [
        {
          "output_type": "execute_result",
          "data": {
            "text/plain": [
              "array([[  38.9,   64.7,    4. ,  868. ,   59.7],\n",
              "       [  41.6,   45.3,   -4. ,  957. ,   61.4],\n",
              "       [  39.7,   74.1,    8. ,  786. ,   61. ],\n",
              "       [  37.3,   48. ,   19. ,  984. ,   67.5],\n",
              "       [  39.5,   51.9,    6. ,  700. ,   57.2],\n",
              "       [  37.4,   53.6,   -5. , 1037. ,   58.8],\n",
              "       [  35.1,   71.4,    3. ,  986. ,   58.6],\n",
              "       [  38.8,   58.3,    6. ,  819. ,   59.2],\n",
              "       [  36.6,   52.6,  -19. ,  791. ,   54.4]])"
            ]
          },
          "metadata": {},
          "execution_count": 26
        }
      ],
      "source": [
        "X"
      ]
    },
    {
      "cell_type": "code",
      "execution_count": null,
      "metadata": {
        "id": "8xH58zzD_5uS",
        "outputId": "618e1aeb-b8b9-4edf-d81c-40238e60986c",
        "colab": {
          "base_uri": "https://localhost:8080/"
        }
      },
      "outputs": [
        {
          "output_type": "execute_result",
          "data": {
            "text/plain": [
              "array([10, 13, 11,  7, 10,  9,  9,  6,  5])"
            ]
          },
          "metadata": {},
          "execution_count": 27
        }
      ],
      "source": [
        "y"
      ]
    },
    {
      "cell_type": "markdown",
      "metadata": {
        "id": "F3JfJR95_5uT"
      },
      "source": [
        "### 1. Normal Equation"
      ]
    },
    {
      "cell_type": "code",
      "execution_count": null,
      "metadata": {
        "id": "Fs3H6XKI_5uX"
      },
      "outputs": [],
      "source": [
        "import numpy as np\n",
        "from numpy.linalg import inv "
      ]
    },
    {
      "cell_type": "markdown",
      "source": [
        "![image.png](data:image/png;base64,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)"
      ],
      "metadata": {
        "id": "47aCyuvNBSR1"
      }
    },
    {
      "cell_type": "code",
      "execution_count": null,
      "metadata": {
        "id": "oEiAbw86_5uX"
      },
      "outputs": [],
      "source": [
        "def estimate_beta(X, y):\n",
        "    designX = np.concatenate([np.ones((len(y), 1)), X], axis=1)\n",
        "    beta_hat = np.dot(np.dot(inv(np.dot(designX.T, designX)), designX.T), y)\n",
        "    return beta_hat"
      ]
    },
    {
      "cell_type": "code",
      "source": [
        "beta_hat = estimate_beta(X, y)\n",
        "beta_hat"
      ],
      "metadata": {
        "colab": {
          "base_uri": "https://localhost:8080/"
        },
        "id": "U1GF-_8LB9cQ",
        "outputId": "c58a1483-019d-4188-98a1-5f0681f5f8f3"
      },
      "execution_count": null,
      "outputs": [
        {
          "output_type": "execute_result",
          "data": {
            "text/plain": [
              "array([-3.92447368e+01,  1.31232583e+00,  8.53744361e-02,  7.41849897e-02,\n",
              "        1.50018573e-02, -3.42273652e-01])"
            ]
          },
          "metadata": {},
          "execution_count": 30
        }
      ]
    },
    {
      "cell_type": "markdown",
      "metadata": {
        "id": "Kr4KXjl9_5uZ"
      },
      "source": [
        "#### 실제 값과 비교"
      ]
    },
    {
      "cell_type": "code",
      "execution_count": null,
      "metadata": {
        "id": "Ef3Ggqo8_5uZ"
      },
      "outputs": [],
      "source": [
        "from sklearn.linear_model import LinearRegression"
      ]
    },
    {
      "cell_type": "code",
      "execution_count": null,
      "metadata": {
        "id": "6Parv6ui_5uZ"
      },
      "outputs": [],
      "source": [
        "model = LinearRegression()\n",
        "model.fit(X,y)\n",
        "\n",
        "pred = model.predict(X)"
      ]
    },
    {
      "cell_type": "code",
      "source": [
        "print(model.intercept_)   # intercept\n",
        "print(model.coef_)   # 추정된 회귀계수 (intercept 제외)"
      ],
      "metadata": {
        "colab": {
          "base_uri": "https://localhost:8080/"
        },
        "id": "GBoQjPWfCzKU",
        "outputId": "5949db79-9637-4e72-c568-ddf4723a27a1"
      },
      "execution_count": null,
      "outputs": [
        {
          "output_type": "stream",
          "name": "stdout",
          "text": [
            "-39.24473678135655\n",
            "[ 1.31232583  0.08537444  0.07418499  0.01500186 -0.34227365]\n",
            "[-3.92447368e+01  1.31232583e+00  8.53744361e-02  7.41849897e-02\n",
            "  1.50018573e-02 -3.42273652e-01]\n"
          ]
        }
      ]
    },
    {
      "cell_type": "markdown",
      "metadata": {
        "id": "Csj01bXd_5ua"
      },
      "source": [
        "### 2. MSE"
      ]
    },
    {
      "cell_type": "code",
      "execution_count": null,
      "metadata": {
        "id": "ADYxjyQ9_5ub"
      },
      "outputs": [],
      "source": [
        "def MSE(X, y, beta_hat):\n",
        "    designX = np.concatenate([np.ones((len(y), 1)), X], axis=1)\n",
        "    y_pred = np.dot(designX, beta_hat)\n",
        "    mse = np.sum((y - y_pred)**2) / (len(y) - len(designX.T))\n",
        "    return mse"
      ]
    },
    {
      "cell_type": "code",
      "source": [
        "MSE(X, y, estimate_beta(X, y))"
      ],
      "metadata": {
        "colab": {
          "base_uri": "https://localhost:8080/"
        },
        "id": "JBqN499vC5VC",
        "outputId": "bee6223b-9b68-407c-a733-8eaa16e6f28c"
      },
      "execution_count": null,
      "outputs": [
        {
          "output_type": "execute_result",
          "data": {
            "text/plain": [
              "4.846793168705742"
            ]
          },
          "metadata": {},
          "execution_count": 37
        }
      ]
    }
  ],
  "metadata": {
    "colab": {
      "name": "2주차_회귀1_김성우",
      "provenance": [],
      "collapsed_sections": [],
      "include_colab_link": true
    },
    "kernelspec": {
      "display_name": "Python 3",
      "language": "python",
      "name": "python3"
    },
    "language_info": {
      "codemirror_mode": {
        "name": "ipython",
        "version": 3
      },
      "file_extension": ".py",
      "mimetype": "text/x-python",
      "name": "python",
      "nbconvert_exporter": "python",
      "pygments_lexer": "ipython3",
      "version": "3.8.5"
    }
  },
  "nbformat": 4,
  "nbformat_minor": 0
}