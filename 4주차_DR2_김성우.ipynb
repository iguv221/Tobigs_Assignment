{
  "cells": [
    {
      "cell_type": "markdown",
      "metadata": {
        "id": "view-in-github",
        "colab_type": "text"
      },
      "source": [
        "<a href=\"https://colab.research.google.com/github/iguv221/Tobigs_Assignment/blob/main/4%EC%A3%BC%EC%B0%A8_DR2_%EA%B9%80%EC%84%B1%EC%9A%B0.ipynb\" target=\"_parent\"><img src=\"https://colab.research.google.com/assets/colab-badge.svg\" alt=\"Open In Colab\"/></a>"
      ]
    },
    {
      "cell_type": "markdown",
      "metadata": {
        "id": "tUf4Rlopj3pT"
      },
      "source": [
        "# 차원축소 Assignment2"
      ]
    },
    {
      "cell_type": "markdown",
      "metadata": {
        "id": "BYMuml9Yj3pb"
      },
      "source": [
        "## MNIST data에 적용을 해보기\n",
        "\n",
        "mnist-original.mat 파일과 같은 위치에서 주피터 노트북을 열어주세요"
      ]
    },
    {
      "cell_type": "code",
      "source": [
        "from google.colab import drive\n",
        "drive.mount('/content/drive')"
      ],
      "metadata": {
        "colab": {
          "base_uri": "https://localhost:8080/"
        },
        "id": "3uPYknaoqC6g",
        "outputId": "6cf45527-cb28-4ca0-97f3-86c6bbc2a5db"
      },
      "execution_count": 30,
      "outputs": [
        {
          "output_type": "stream",
          "name": "stdout",
          "text": [
            "Drive already mounted at /content/drive; to attempt to forcibly remount, call drive.mount(\"/content/drive\", force_remount=True).\n"
          ]
        }
      ]
    },
    {
      "cell_type": "code",
      "execution_count": 31,
      "metadata": {
        "id": "btgKIc9Bj3pc"
      },
      "outputs": [],
      "source": [
        "import numpy as np\n",
        "import numpy.linalg as lin\n",
        "import matplotlib.pyplot as plt\n",
        "import pandas as pd\n",
        "from sklearn.datasets import fetch_openml\n",
        "from scipy import io\n",
        "%matplotlib inline\n",
        "from mpl_toolkits.mplot3d import Axes3D"
      ]
    },
    {
      "cell_type": "code",
      "execution_count": 32,
      "metadata": {
        "id": "Z_XnlWsxj3pe"
      },
      "outputs": [],
      "source": [
        "mnist = io.loadmat('/content/drive/MyDrive/ToBigs/과제 폴더/4주차/Week4_Dimension_Reduction/Week4_Dimension_Reduction/Assignment/mnist-original.mat') #mnist 손글씨 데이터를 불러옵니다\n",
        "X = mnist['data'].T\n",
        "y = mnist['label'].T"
      ]
    },
    {
      "cell_type": "markdown",
      "metadata": {
        "id": "o8i6sGgZj3pf"
      },
      "source": [
        "# 데이터 정보!\n",
        "- 7만개의 작은 숫자 이미지\n",
        "- 행 열이 반대로 되어있음 -> 전치\n",
        "- grayscale 28x28 pixel = 784 feature\n",
        "- 각 picel은 0~255의 값\n",
        "- label = 1~10 label이 총 10개인거에 주목하자"
      ]
    },
    {
      "cell_type": "code",
      "execution_count": 33,
      "metadata": {
        "colab": {
          "base_uri": "https://localhost:8080/"
        },
        "id": "4O_ENUXoj3pg",
        "outputId": "001ae18d-ceac-4c10-fdb3-41285bbd239d"
      },
      "outputs": [
        {
          "output_type": "stream",
          "name": "stdout",
          "text": [
            "(70000, 784) (70000, 1)\n"
          ]
        }
      ],
      "source": [
        "print(X.shape, y.shape)"
      ]
    },
    {
      "cell_type": "code",
      "execution_count": 34,
      "metadata": {
        "colab": {
          "base_uri": "https://localhost:8080/",
          "height": 299
        },
        "id": "Vq7J9q44j3pi",
        "outputId": "497973c7-a2d7-42ad-92c3-23c4cb715121"
      },
      "outputs": [
        {
          "output_type": "execute_result",
          "data": {
            "text/plain": [
              "   pixel0  pixel1  pixel2  pixel3  pixel4  pixel5  pixel6  pixel7  pixel8  \\\n",
              "0       0       0       0       0       0       0       0       0       0   \n",
              "1       0       0       0       0       0       0       0       0       0   \n",
              "2       0       0       0       0       0       0       0       0       0   \n",
              "3       0       0       0       0       0       0       0       0       0   \n",
              "4       0       0       0       0       0       0       0       0       0   \n",
              "\n",
              "   pixel9  ...  pixel774  pixel775  pixel776  pixel777  pixel778  pixel779  \\\n",
              "0       0  ...         0         0         0         0         0         0   \n",
              "1       0  ...         0         0         0         0         0         0   \n",
              "2       0  ...         0         0         0         0         0         0   \n",
              "3       0  ...         0         0         0         0         0         0   \n",
              "4       0  ...         0         0         0         0         0         0   \n",
              "\n",
              "   pixel780  pixel781  pixel782  pixel783  \n",
              "0         0         0         0         0  \n",
              "1         0         0         0         0  \n",
              "2         0         0         0         0  \n",
              "3         0         0         0         0  \n",
              "4         0         0         0         0  \n",
              "\n",
              "[5 rows x 784 columns]"
            ],
            "text/html": [
              "\n",
              "  <div id=\"df-8e639726-224e-457e-b844-ae8d2bb667ed\">\n",
              "    <div class=\"colab-df-container\">\n",
              "      <div>\n",
              "<style scoped>\n",
              "    .dataframe tbody tr th:only-of-type {\n",
              "        vertical-align: middle;\n",
              "    }\n",
              "\n",
              "    .dataframe tbody tr th {\n",
              "        vertical-align: top;\n",
              "    }\n",
              "\n",
              "    .dataframe thead th {\n",
              "        text-align: right;\n",
              "    }\n",
              "</style>\n",
              "<table border=\"1\" class=\"dataframe\">\n",
              "  <thead>\n",
              "    <tr style=\"text-align: right;\">\n",
              "      <th></th>\n",
              "      <th>pixel0</th>\n",
              "      <th>pixel1</th>\n",
              "      <th>pixel2</th>\n",
              "      <th>pixel3</th>\n",
              "      <th>pixel4</th>\n",
              "      <th>pixel5</th>\n",
              "      <th>pixel6</th>\n",
              "      <th>pixel7</th>\n",
              "      <th>pixel8</th>\n",
              "      <th>pixel9</th>\n",
              "      <th>...</th>\n",
              "      <th>pixel774</th>\n",
              "      <th>pixel775</th>\n",
              "      <th>pixel776</th>\n",
              "      <th>pixel777</th>\n",
              "      <th>pixel778</th>\n",
              "      <th>pixel779</th>\n",
              "      <th>pixel780</th>\n",
              "      <th>pixel781</th>\n",
              "      <th>pixel782</th>\n",
              "      <th>pixel783</th>\n",
              "    </tr>\n",
              "  </thead>\n",
              "  <tbody>\n",
              "    <tr>\n",
              "      <th>0</th>\n",
              "      <td>0</td>\n",
              "      <td>0</td>\n",
              "      <td>0</td>\n",
              "      <td>0</td>\n",
              "      <td>0</td>\n",
              "      <td>0</td>\n",
              "      <td>0</td>\n",
              "      <td>0</td>\n",
              "      <td>0</td>\n",
              "      <td>0</td>\n",
              "      <td>...</td>\n",
              "      <td>0</td>\n",
              "      <td>0</td>\n",
              "      <td>0</td>\n",
              "      <td>0</td>\n",
              "      <td>0</td>\n",
              "      <td>0</td>\n",
              "      <td>0</td>\n",
              "      <td>0</td>\n",
              "      <td>0</td>\n",
              "      <td>0</td>\n",
              "    </tr>\n",
              "    <tr>\n",
              "      <th>1</th>\n",
              "      <td>0</td>\n",
              "      <td>0</td>\n",
              "      <td>0</td>\n",
              "      <td>0</td>\n",
              "      <td>0</td>\n",
              "      <td>0</td>\n",
              "      <td>0</td>\n",
              "      <td>0</td>\n",
              "      <td>0</td>\n",
              "      <td>0</td>\n",
              "      <td>...</td>\n",
              "      <td>0</td>\n",
              "      <td>0</td>\n",
              "      <td>0</td>\n",
              "      <td>0</td>\n",
              "      <td>0</td>\n",
              "      <td>0</td>\n",
              "      <td>0</td>\n",
              "      <td>0</td>\n",
              "      <td>0</td>\n",
              "      <td>0</td>\n",
              "    </tr>\n",
              "    <tr>\n",
              "      <th>2</th>\n",
              "      <td>0</td>\n",
              "      <td>0</td>\n",
              "      <td>0</td>\n",
              "      <td>0</td>\n",
              "      <td>0</td>\n",
              "      <td>0</td>\n",
              "      <td>0</td>\n",
              "      <td>0</td>\n",
              "      <td>0</td>\n",
              "      <td>0</td>\n",
              "      <td>...</td>\n",
              "      <td>0</td>\n",
              "      <td>0</td>\n",
              "      <td>0</td>\n",
              "      <td>0</td>\n",
              "      <td>0</td>\n",
              "      <td>0</td>\n",
              "      <td>0</td>\n",
              "      <td>0</td>\n",
              "      <td>0</td>\n",
              "      <td>0</td>\n",
              "    </tr>\n",
              "    <tr>\n",
              "      <th>3</th>\n",
              "      <td>0</td>\n",
              "      <td>0</td>\n",
              "      <td>0</td>\n",
              "      <td>0</td>\n",
              "      <td>0</td>\n",
              "      <td>0</td>\n",
              "      <td>0</td>\n",
              "      <td>0</td>\n",
              "      <td>0</td>\n",
              "      <td>0</td>\n",
              "      <td>...</td>\n",
              "      <td>0</td>\n",
              "      <td>0</td>\n",
              "      <td>0</td>\n",
              "      <td>0</td>\n",
              "      <td>0</td>\n",
              "      <td>0</td>\n",
              "      <td>0</td>\n",
              "      <td>0</td>\n",
              "      <td>0</td>\n",
              "      <td>0</td>\n",
              "    </tr>\n",
              "    <tr>\n",
              "      <th>4</th>\n",
              "      <td>0</td>\n",
              "      <td>0</td>\n",
              "      <td>0</td>\n",
              "      <td>0</td>\n",
              "      <td>0</td>\n",
              "      <td>0</td>\n",
              "      <td>0</td>\n",
              "      <td>0</td>\n",
              "      <td>0</td>\n",
              "      <td>0</td>\n",
              "      <td>...</td>\n",
              "      <td>0</td>\n",
              "      <td>0</td>\n",
              "      <td>0</td>\n",
              "      <td>0</td>\n",
              "      <td>0</td>\n",
              "      <td>0</td>\n",
              "      <td>0</td>\n",
              "      <td>0</td>\n",
              "      <td>0</td>\n",
              "      <td>0</td>\n",
              "    </tr>\n",
              "  </tbody>\n",
              "</table>\n",
              "<p>5 rows × 784 columns</p>\n",
              "</div>\n",
              "      <button class=\"colab-df-convert\" onclick=\"convertToInteractive('df-8e639726-224e-457e-b844-ae8d2bb667ed')\"\n",
              "              title=\"Convert this dataframe to an interactive table.\"\n",
              "              style=\"display:none;\">\n",
              "        \n",
              "  <svg xmlns=\"http://www.w3.org/2000/svg\" height=\"24px\"viewBox=\"0 0 24 24\"\n",
              "       width=\"24px\">\n",
              "    <path d=\"M0 0h24v24H0V0z\" fill=\"none\"/>\n",
              "    <path d=\"M18.56 5.44l.94 2.06.94-2.06 2.06-.94-2.06-.94-.94-2.06-.94 2.06-2.06.94zm-11 1L8.5 8.5l.94-2.06 2.06-.94-2.06-.94L8.5 2.5l-.94 2.06-2.06.94zm10 10l.94 2.06.94-2.06 2.06-.94-2.06-.94-.94-2.06-.94 2.06-2.06.94z\"/><path d=\"M17.41 7.96l-1.37-1.37c-.4-.4-.92-.59-1.43-.59-.52 0-1.04.2-1.43.59L10.3 9.45l-7.72 7.72c-.78.78-.78 2.05 0 2.83L4 21.41c.39.39.9.59 1.41.59.51 0 1.02-.2 1.41-.59l7.78-7.78 2.81-2.81c.8-.78.8-2.07 0-2.86zM5.41 20L4 18.59l7.72-7.72 1.47 1.35L5.41 20z\"/>\n",
              "  </svg>\n",
              "      </button>\n",
              "      \n",
              "  <style>\n",
              "    .colab-df-container {\n",
              "      display:flex;\n",
              "      flex-wrap:wrap;\n",
              "      gap: 12px;\n",
              "    }\n",
              "\n",
              "    .colab-df-convert {\n",
              "      background-color: #E8F0FE;\n",
              "      border: none;\n",
              "      border-radius: 50%;\n",
              "      cursor: pointer;\n",
              "      display: none;\n",
              "      fill: #1967D2;\n",
              "      height: 32px;\n",
              "      padding: 0 0 0 0;\n",
              "      width: 32px;\n",
              "    }\n",
              "\n",
              "    .colab-df-convert:hover {\n",
              "      background-color: #E2EBFA;\n",
              "      box-shadow: 0px 1px 2px rgba(60, 64, 67, 0.3), 0px 1px 3px 1px rgba(60, 64, 67, 0.15);\n",
              "      fill: #174EA6;\n",
              "    }\n",
              "\n",
              "    [theme=dark] .colab-df-convert {\n",
              "      background-color: #3B4455;\n",
              "      fill: #D2E3FC;\n",
              "    }\n",
              "\n",
              "    [theme=dark] .colab-df-convert:hover {\n",
              "      background-color: #434B5C;\n",
              "      box-shadow: 0px 1px 3px 1px rgba(0, 0, 0, 0.15);\n",
              "      filter: drop-shadow(0px 1px 2px rgba(0, 0, 0, 0.3));\n",
              "      fill: #FFFFFF;\n",
              "    }\n",
              "  </style>\n",
              "\n",
              "      <script>\n",
              "        const buttonEl =\n",
              "          document.querySelector('#df-8e639726-224e-457e-b844-ae8d2bb667ed button.colab-df-convert');\n",
              "        buttonEl.style.display =\n",
              "          google.colab.kernel.accessAllowed ? 'block' : 'none';\n",
              "\n",
              "        async function convertToInteractive(key) {\n",
              "          const element = document.querySelector('#df-8e639726-224e-457e-b844-ae8d2bb667ed');\n",
              "          const dataTable =\n",
              "            await google.colab.kernel.invokeFunction('convertToInteractive',\n",
              "                                                     [key], {});\n",
              "          if (!dataTable) return;\n",
              "\n",
              "          const docLinkHtml = 'Like what you see? Visit the ' +\n",
              "            '<a target=\"_blank\" href=https://colab.research.google.com/notebooks/data_table.ipynb>data table notebook</a>'\n",
              "            + ' to learn more about interactive tables.';\n",
              "          element.innerHTML = '';\n",
              "          dataTable['output_type'] = 'display_data';\n",
              "          await google.colab.output.renderOutput(dataTable, element);\n",
              "          const docLink = document.createElement('div');\n",
              "          docLink.innerHTML = docLinkHtml;\n",
              "          element.appendChild(docLink);\n",
              "        }\n",
              "      </script>\n",
              "    </div>\n",
              "  </div>\n",
              "  "
            ]
          },
          "metadata": {},
          "execution_count": 34
        }
      ],
      "source": [
        "# data를 각 픽셀에 이름붙여 표현\n",
        "feat_cols = [ 'pixel'+str(i) for i in range(X.shape[1]) ]\n",
        "df = pd.DataFrame(X,columns=feat_cols)\n",
        "df.head()"
      ]
    },
    {
      "cell_type": "code",
      "execution_count": 35,
      "metadata": {
        "colab": {
          "base_uri": "https://localhost:8080/"
        },
        "id": "zYcRXIICj3pj",
        "outputId": "7705ab6b-3b10-46a1-ac87-9c89eb994bae"
      },
      "outputs": [
        {
          "output_type": "stream",
          "name": "stdout",
          "text": [
            "Size of the dataframe: (70000, 785)\n"
          ]
        }
      ],
      "source": [
        "# df에 라벨 y를 붙여서 데이터프레임 생성\n",
        "df['y'] = y\n",
        "print('Size of the dataframe: {}'.format(df.shape))"
      ]
    },
    {
      "cell_type": "code",
      "execution_count": 36,
      "metadata": {
        "colab": {
          "base_uri": "https://localhost:8080/",
          "height": 468
        },
        "id": "ZuWcS_bdj3pk",
        "outputId": "6cbea9eb-8ea2-4551-dea9-852ad35c1064"
      },
      "outputs": [
        {
          "output_type": "execute_result",
          "data": {
            "text/plain": [
              "       pixel0  pixel1  pixel2  pixel3  pixel4  pixel5  pixel6  pixel7  pixel8  \\\n",
              "0           0       0       0       0       0       0       0       0       0   \n",
              "1           0       0       0       0       0       0       0       0       0   \n",
              "2           0       0       0       0       0       0       0       0       0   \n",
              "3           0       0       0       0       0       0       0       0       0   \n",
              "4           0       0       0       0       0       0       0       0       0   \n",
              "...       ...     ...     ...     ...     ...     ...     ...     ...     ...   \n",
              "69995       0       0       0       0       0       0       0       0       0   \n",
              "69996       0       0       0       0       0       0       0       0       0   \n",
              "69997       0       0       0       0       0       0       0       0       0   \n",
              "69998       0       0       0       0       0       0       0       0       0   \n",
              "69999       0       0       0       0       0       0       0       0       0   \n",
              "\n",
              "       pixel9  ...  pixel775  pixel776  pixel777  pixel778  pixel779  \\\n",
              "0           0  ...         0         0         0         0         0   \n",
              "1           0  ...         0         0         0         0         0   \n",
              "2           0  ...         0         0         0         0         0   \n",
              "3           0  ...         0         0         0         0         0   \n",
              "4           0  ...         0         0         0         0         0   \n",
              "...       ...  ...       ...       ...       ...       ...       ...   \n",
              "69995       0  ...         0         0         0         0         0   \n",
              "69996       0  ...         0         0         0         0         0   \n",
              "69997       0  ...         0         0         0         0         0   \n",
              "69998       0  ...         0         0         0         0         0   \n",
              "69999       0  ...         0         0         0         0         0   \n",
              "\n",
              "       pixel780  pixel781  pixel782  pixel783    y  \n",
              "0             0         0         0         0  0.0  \n",
              "1             0         0         0         0  0.0  \n",
              "2             0         0         0         0  0.0  \n",
              "3             0         0         0         0  0.0  \n",
              "4             0         0         0         0  0.0  \n",
              "...         ...       ...       ...       ...  ...  \n",
              "69995         0         0         0         0  9.0  \n",
              "69996         0         0         0         0  9.0  \n",
              "69997         0         0         0         0  9.0  \n",
              "69998         0         0         0         0  9.0  \n",
              "69999         0         0         0         0  9.0  \n",
              "\n",
              "[70000 rows x 785 columns]"
            ],
            "text/html": [
              "\n",
              "  <div id=\"df-46470f9e-71e2-4fe3-a7c7-02ee8fd619e1\">\n",
              "    <div class=\"colab-df-container\">\n",
              "      <div>\n",
              "<style scoped>\n",
              "    .dataframe tbody tr th:only-of-type {\n",
              "        vertical-align: middle;\n",
              "    }\n",
              "\n",
              "    .dataframe tbody tr th {\n",
              "        vertical-align: top;\n",
              "    }\n",
              "\n",
              "    .dataframe thead th {\n",
              "        text-align: right;\n",
              "    }\n",
              "</style>\n",
              "<table border=\"1\" class=\"dataframe\">\n",
              "  <thead>\n",
              "    <tr style=\"text-align: right;\">\n",
              "      <th></th>\n",
              "      <th>pixel0</th>\n",
              "      <th>pixel1</th>\n",
              "      <th>pixel2</th>\n",
              "      <th>pixel3</th>\n",
              "      <th>pixel4</th>\n",
              "      <th>pixel5</th>\n",
              "      <th>pixel6</th>\n",
              "      <th>pixel7</th>\n",
              "      <th>pixel8</th>\n",
              "      <th>pixel9</th>\n",
              "      <th>...</th>\n",
              "      <th>pixel775</th>\n",
              "      <th>pixel776</th>\n",
              "      <th>pixel777</th>\n",
              "      <th>pixel778</th>\n",
              "      <th>pixel779</th>\n",
              "      <th>pixel780</th>\n",
              "      <th>pixel781</th>\n",
              "      <th>pixel782</th>\n",
              "      <th>pixel783</th>\n",
              "      <th>y</th>\n",
              "    </tr>\n",
              "  </thead>\n",
              "  <tbody>\n",
              "    <tr>\n",
              "      <th>0</th>\n",
              "      <td>0</td>\n",
              "      <td>0</td>\n",
              "      <td>0</td>\n",
              "      <td>0</td>\n",
              "      <td>0</td>\n",
              "      <td>0</td>\n",
              "      <td>0</td>\n",
              "      <td>0</td>\n",
              "      <td>0</td>\n",
              "      <td>0</td>\n",
              "      <td>...</td>\n",
              "      <td>0</td>\n",
              "      <td>0</td>\n",
              "      <td>0</td>\n",
              "      <td>0</td>\n",
              "      <td>0</td>\n",
              "      <td>0</td>\n",
              "      <td>0</td>\n",
              "      <td>0</td>\n",
              "      <td>0</td>\n",
              "      <td>0.0</td>\n",
              "    </tr>\n",
              "    <tr>\n",
              "      <th>1</th>\n",
              "      <td>0</td>\n",
              "      <td>0</td>\n",
              "      <td>0</td>\n",
              "      <td>0</td>\n",
              "      <td>0</td>\n",
              "      <td>0</td>\n",
              "      <td>0</td>\n",
              "      <td>0</td>\n",
              "      <td>0</td>\n",
              "      <td>0</td>\n",
              "      <td>...</td>\n",
              "      <td>0</td>\n",
              "      <td>0</td>\n",
              "      <td>0</td>\n",
              "      <td>0</td>\n",
              "      <td>0</td>\n",
              "      <td>0</td>\n",
              "      <td>0</td>\n",
              "      <td>0</td>\n",
              "      <td>0</td>\n",
              "      <td>0.0</td>\n",
              "    </tr>\n",
              "    <tr>\n",
              "      <th>2</th>\n",
              "      <td>0</td>\n",
              "      <td>0</td>\n",
              "      <td>0</td>\n",
              "      <td>0</td>\n",
              "      <td>0</td>\n",
              "      <td>0</td>\n",
              "      <td>0</td>\n",
              "      <td>0</td>\n",
              "      <td>0</td>\n",
              "      <td>0</td>\n",
              "      <td>...</td>\n",
              "      <td>0</td>\n",
              "      <td>0</td>\n",
              "      <td>0</td>\n",
              "      <td>0</td>\n",
              "      <td>0</td>\n",
              "      <td>0</td>\n",
              "      <td>0</td>\n",
              "      <td>0</td>\n",
              "      <td>0</td>\n",
              "      <td>0.0</td>\n",
              "    </tr>\n",
              "    <tr>\n",
              "      <th>3</th>\n",
              "      <td>0</td>\n",
              "      <td>0</td>\n",
              "      <td>0</td>\n",
              "      <td>0</td>\n",
              "      <td>0</td>\n",
              "      <td>0</td>\n",
              "      <td>0</td>\n",
              "      <td>0</td>\n",
              "      <td>0</td>\n",
              "      <td>0</td>\n",
              "      <td>...</td>\n",
              "      <td>0</td>\n",
              "      <td>0</td>\n",
              "      <td>0</td>\n",
              "      <td>0</td>\n",
              "      <td>0</td>\n",
              "      <td>0</td>\n",
              "      <td>0</td>\n",
              "      <td>0</td>\n",
              "      <td>0</td>\n",
              "      <td>0.0</td>\n",
              "    </tr>\n",
              "    <tr>\n",
              "      <th>4</th>\n",
              "      <td>0</td>\n",
              "      <td>0</td>\n",
              "      <td>0</td>\n",
              "      <td>0</td>\n",
              "      <td>0</td>\n",
              "      <td>0</td>\n",
              "      <td>0</td>\n",
              "      <td>0</td>\n",
              "      <td>0</td>\n",
              "      <td>0</td>\n",
              "      <td>...</td>\n",
              "      <td>0</td>\n",
              "      <td>0</td>\n",
              "      <td>0</td>\n",
              "      <td>0</td>\n",
              "      <td>0</td>\n",
              "      <td>0</td>\n",
              "      <td>0</td>\n",
              "      <td>0</td>\n",
              "      <td>0</td>\n",
              "      <td>0.0</td>\n",
              "    </tr>\n",
              "    <tr>\n",
              "      <th>...</th>\n",
              "      <td>...</td>\n",
              "      <td>...</td>\n",
              "      <td>...</td>\n",
              "      <td>...</td>\n",
              "      <td>...</td>\n",
              "      <td>...</td>\n",
              "      <td>...</td>\n",
              "      <td>...</td>\n",
              "      <td>...</td>\n",
              "      <td>...</td>\n",
              "      <td>...</td>\n",
              "      <td>...</td>\n",
              "      <td>...</td>\n",
              "      <td>...</td>\n",
              "      <td>...</td>\n",
              "      <td>...</td>\n",
              "      <td>...</td>\n",
              "      <td>...</td>\n",
              "      <td>...</td>\n",
              "      <td>...</td>\n",
              "      <td>...</td>\n",
              "    </tr>\n",
              "    <tr>\n",
              "      <th>69995</th>\n",
              "      <td>0</td>\n",
              "      <td>0</td>\n",
              "      <td>0</td>\n",
              "      <td>0</td>\n",
              "      <td>0</td>\n",
              "      <td>0</td>\n",
              "      <td>0</td>\n",
              "      <td>0</td>\n",
              "      <td>0</td>\n",
              "      <td>0</td>\n",
              "      <td>...</td>\n",
              "      <td>0</td>\n",
              "      <td>0</td>\n",
              "      <td>0</td>\n",
              "      <td>0</td>\n",
              "      <td>0</td>\n",
              "      <td>0</td>\n",
              "      <td>0</td>\n",
              "      <td>0</td>\n",
              "      <td>0</td>\n",
              "      <td>9.0</td>\n",
              "    </tr>\n",
              "    <tr>\n",
              "      <th>69996</th>\n",
              "      <td>0</td>\n",
              "      <td>0</td>\n",
              "      <td>0</td>\n",
              "      <td>0</td>\n",
              "      <td>0</td>\n",
              "      <td>0</td>\n",
              "      <td>0</td>\n",
              "      <td>0</td>\n",
              "      <td>0</td>\n",
              "      <td>0</td>\n",
              "      <td>...</td>\n",
              "      <td>0</td>\n",
              "      <td>0</td>\n",
              "      <td>0</td>\n",
              "      <td>0</td>\n",
              "      <td>0</td>\n",
              "      <td>0</td>\n",
              "      <td>0</td>\n",
              "      <td>0</td>\n",
              "      <td>0</td>\n",
              "      <td>9.0</td>\n",
              "    </tr>\n",
              "    <tr>\n",
              "      <th>69997</th>\n",
              "      <td>0</td>\n",
              "      <td>0</td>\n",
              "      <td>0</td>\n",
              "      <td>0</td>\n",
              "      <td>0</td>\n",
              "      <td>0</td>\n",
              "      <td>0</td>\n",
              "      <td>0</td>\n",
              "      <td>0</td>\n",
              "      <td>0</td>\n",
              "      <td>...</td>\n",
              "      <td>0</td>\n",
              "      <td>0</td>\n",
              "      <td>0</td>\n",
              "      <td>0</td>\n",
              "      <td>0</td>\n",
              "      <td>0</td>\n",
              "      <td>0</td>\n",
              "      <td>0</td>\n",
              "      <td>0</td>\n",
              "      <td>9.0</td>\n",
              "    </tr>\n",
              "    <tr>\n",
              "      <th>69998</th>\n",
              "      <td>0</td>\n",
              "      <td>0</td>\n",
              "      <td>0</td>\n",
              "      <td>0</td>\n",
              "      <td>0</td>\n",
              "      <td>0</td>\n",
              "      <td>0</td>\n",
              "      <td>0</td>\n",
              "      <td>0</td>\n",
              "      <td>0</td>\n",
              "      <td>...</td>\n",
              "      <td>0</td>\n",
              "      <td>0</td>\n",
              "      <td>0</td>\n",
              "      <td>0</td>\n",
              "      <td>0</td>\n",
              "      <td>0</td>\n",
              "      <td>0</td>\n",
              "      <td>0</td>\n",
              "      <td>0</td>\n",
              "      <td>9.0</td>\n",
              "    </tr>\n",
              "    <tr>\n",
              "      <th>69999</th>\n",
              "      <td>0</td>\n",
              "      <td>0</td>\n",
              "      <td>0</td>\n",
              "      <td>0</td>\n",
              "      <td>0</td>\n",
              "      <td>0</td>\n",
              "      <td>0</td>\n",
              "      <td>0</td>\n",
              "      <td>0</td>\n",
              "      <td>0</td>\n",
              "      <td>...</td>\n",
              "      <td>0</td>\n",
              "      <td>0</td>\n",
              "      <td>0</td>\n",
              "      <td>0</td>\n",
              "      <td>0</td>\n",
              "      <td>0</td>\n",
              "      <td>0</td>\n",
              "      <td>0</td>\n",
              "      <td>0</td>\n",
              "      <td>9.0</td>\n",
              "    </tr>\n",
              "  </tbody>\n",
              "</table>\n",
              "<p>70000 rows × 785 columns</p>\n",
              "</div>\n",
              "      <button class=\"colab-df-convert\" onclick=\"convertToInteractive('df-46470f9e-71e2-4fe3-a7c7-02ee8fd619e1')\"\n",
              "              title=\"Convert this dataframe to an interactive table.\"\n",
              "              style=\"display:none;\">\n",
              "        \n",
              "  <svg xmlns=\"http://www.w3.org/2000/svg\" height=\"24px\"viewBox=\"0 0 24 24\"\n",
              "       width=\"24px\">\n",
              "    <path d=\"M0 0h24v24H0V0z\" fill=\"none\"/>\n",
              "    <path d=\"M18.56 5.44l.94 2.06.94-2.06 2.06-.94-2.06-.94-.94-2.06-.94 2.06-2.06.94zm-11 1L8.5 8.5l.94-2.06 2.06-.94-2.06-.94L8.5 2.5l-.94 2.06-2.06.94zm10 10l.94 2.06.94-2.06 2.06-.94-2.06-.94-.94-2.06-.94 2.06-2.06.94z\"/><path d=\"M17.41 7.96l-1.37-1.37c-.4-.4-.92-.59-1.43-.59-.52 0-1.04.2-1.43.59L10.3 9.45l-7.72 7.72c-.78.78-.78 2.05 0 2.83L4 21.41c.39.39.9.59 1.41.59.51 0 1.02-.2 1.41-.59l7.78-7.78 2.81-2.81c.8-.78.8-2.07 0-2.86zM5.41 20L4 18.59l7.72-7.72 1.47 1.35L5.41 20z\"/>\n",
              "  </svg>\n",
              "      </button>\n",
              "      \n",
              "  <style>\n",
              "    .colab-df-container {\n",
              "      display:flex;\n",
              "      flex-wrap:wrap;\n",
              "      gap: 12px;\n",
              "    }\n",
              "\n",
              "    .colab-df-convert {\n",
              "      background-color: #E8F0FE;\n",
              "      border: none;\n",
              "      border-radius: 50%;\n",
              "      cursor: pointer;\n",
              "      display: none;\n",
              "      fill: #1967D2;\n",
              "      height: 32px;\n",
              "      padding: 0 0 0 0;\n",
              "      width: 32px;\n",
              "    }\n",
              "\n",
              "    .colab-df-convert:hover {\n",
              "      background-color: #E2EBFA;\n",
              "      box-shadow: 0px 1px 2px rgba(60, 64, 67, 0.3), 0px 1px 3px 1px rgba(60, 64, 67, 0.15);\n",
              "      fill: #174EA6;\n",
              "    }\n",
              "\n",
              "    [theme=dark] .colab-df-convert {\n",
              "      background-color: #3B4455;\n",
              "      fill: #D2E3FC;\n",
              "    }\n",
              "\n",
              "    [theme=dark] .colab-df-convert:hover {\n",
              "      background-color: #434B5C;\n",
              "      box-shadow: 0px 1px 3px 1px rgba(0, 0, 0, 0.15);\n",
              "      filter: drop-shadow(0px 1px 2px rgba(0, 0, 0, 0.3));\n",
              "      fill: #FFFFFF;\n",
              "    }\n",
              "  </style>\n",
              "\n",
              "      <script>\n",
              "        const buttonEl =\n",
              "          document.querySelector('#df-46470f9e-71e2-4fe3-a7c7-02ee8fd619e1 button.colab-df-convert');\n",
              "        buttonEl.style.display =\n",
              "          google.colab.kernel.accessAllowed ? 'block' : 'none';\n",
              "\n",
              "        async function convertToInteractive(key) {\n",
              "          const element = document.querySelector('#df-46470f9e-71e2-4fe3-a7c7-02ee8fd619e1');\n",
              "          const dataTable =\n",
              "            await google.colab.kernel.invokeFunction('convertToInteractive',\n",
              "                                                     [key], {});\n",
              "          if (!dataTable) return;\n",
              "\n",
              "          const docLinkHtml = 'Like what you see? Visit the ' +\n",
              "            '<a target=\"_blank\" href=https://colab.research.google.com/notebooks/data_table.ipynb>data table notebook</a>'\n",
              "            + ' to learn more about interactive tables.';\n",
              "          element.innerHTML = '';\n",
              "          dataTable['output_type'] = 'display_data';\n",
              "          await google.colab.output.renderOutput(dataTable, element);\n",
              "          const docLink = document.createElement('div');\n",
              "          docLink.innerHTML = docLinkHtml;\n",
              "          element.appendChild(docLink);\n",
              "        }\n",
              "      </script>\n",
              "    </div>\n",
              "  </div>\n",
              "  "
            ]
          },
          "metadata": {},
          "execution_count": 36
        }
      ],
      "source": [
        "df"
      ]
    },
    {
      "cell_type": "code",
      "execution_count": 47,
      "metadata": {
        "colab": {
          "base_uri": "https://localhost:8080/",
          "height": 456
        },
        "id": "U7DAdx-3j3pl",
        "outputId": "6366aac5-9539-4480-9edd-b0e498b66392"
      },
      "outputs": [
        {
          "output_type": "display_data",
          "data": {
            "text/plain": [
              "<Figure size 432x288 with 0 Axes>"
            ]
          },
          "metadata": {}
        },
        {
          "output_type": "display_data",
          "data": {
            "text/plain": [
              "<Figure size 1152x504 with 15 Axes>"
            ],
            "image/png": "[encoded data removed]"
          },
          "metadata": {
            "needs_background": "light"
          }
        }
      ],
      "source": [
        "# 데이터 형태 시각화\n",
        "rndperm = np.random.permutation(df.shape[0])\n",
        "\n",
        "# Plot the graph\n",
        "plt.gray()\n",
        "fig = plt.figure( figsize=(16,7) )\n",
        "for i in range(0,15):\n",
        "    ax = fig.add_subplot(3,5,i+1, title=\"Digit: {}\".format(str(df.loc[rndperm[i],'y'])) )\n",
        "    ax.matshow(df.loc[rndperm[i],feat_cols].values.reshape((28,28)).astype(float))\n",
        "plt.show()"
      ]
    },
    {
      "cell_type": "markdown",
      "metadata": {
        "id": "h10YZGECj3pm"
      },
      "source": [
        "### 1) train_test_split을 통해 데이터를 0.8 0.2의 비율로 분할 해 주세요"
      ]
    },
    {
      "cell_type": "code",
      "execution_count": 38,
      "metadata": {
        "colab": {
          "base_uri": "https://localhost:8080/"
        },
        "id": "oNUjTQ1sj3pm",
        "outputId": "b6fd5d8d-99cb-456f-b2fa-449d8da4016d"
      },
      "outputs": [
        {
          "output_type": "stream",
          "name": "stdout",
          "text": [
            "(56000, 784)\n",
            "(14000, 784)\n"
          ]
        }
      ],
      "source": [
        "from sklearn.model_selection import train_test_split\n",
        "\n",
        "X_train, X_test, y_train, y_test = train_test_split(X, y, test_size = 0.2, random_state = 42)\n",
        "print(X_train.shape)\n",
        "print(X_test.shape)"
      ]
    },
    {
      "cell_type": "markdown",
      "metadata": {
        "id": "aTvKk6SPj3pn"
      },
      "source": [
        "### 여기서부터는 원본데이터 & PCA 축소 데이터 & LDA 축소 데이터 비교해주세요"
      ]
    },
    {
      "cell_type": "markdown",
      "metadata": {
        "id": "YUENW2uZj3pn"
      },
      "source": [
        "### 2) 차원축소 기법(PCA와 LDA)을 이용하여 mnist data를 축소시켜주세요\n",
        "\n",
        "pca를 이용할 때는, 주성분 개수를 정하는 과정에 대해 잘 서술해주시면 좋겠죠!<br>\n",
        "강의에서 배웠던 3가지 중 어떤 걸 고려해서 갯수를 정했는지요!!!!<br>\n",
        "scree plot같은거는 직접 그려서 확인해주면 좋겠죠???"
      ]
    },
    {
      "cell_type": "code",
      "execution_count": 39,
      "metadata": {
        "id": "kGARHC43j3po"
      },
      "outputs": [],
      "source": [
        "from sklearn.decomposition import PCA\n",
        "from sklearn.discriminant_analysis import LinearDiscriminantAnalysis"
      ]
    },
    {
      "cell_type": "code",
      "execution_count": 40,
      "metadata": {
        "id": "Q8BOJcNxj3po"
      },
      "outputs": [],
      "source": [
        "pca = PCA()\n",
        "X_pca = pca.fit_transform(X_train)"
      ]
    },
    {
      "cell_type": "code",
      "source": [
        "# Scree plot 그려보기\n",
        "exp_var_ratio = pca.explained_variance_ratio_\n",
        "plt.plot(range(len(exp_var_ratio)), exp_var_ratio, marker = 'o')\n",
        "plt.title(\"Scree plot\")\n",
        "plt.xlabel(\"Factor Number\")\n",
        "plt.ylabel(\"Eigenvalue\")\n",
        "plt.show()"
      ],
      "metadata": {
        "colab": {
          "base_uri": "https://localhost:8080/",
          "height": 295
        },
        "id": "5GVFrHQBrwf3",
        "outputId": "b71d60bd-0c9d-4256-e122-114126916405"
      },
      "execution_count": 41,
      "outputs": [
        {
          "output_type": "display_data",
          "data": {
            "text/plain": [
              "<Figure size 432x288 with 1 Axes>"
            ],
            "image/png": "[encoded data removed]"
          },
          "metadata": {
            "needs_background": "light"
          }
        }
      ]
    },
    {
      "cell_type": "code",
      "source": [
        "# 누적 설명 비중(Cumulated Sum of Explained Variance Ratio) 그래프 그려보기\n",
        "\n",
        "exp_var_ratio_cumsum = np.cumsum(exp_var_ratio)     # 누적 설명 비중\n",
        "\n",
        "# 주성분 개수에 대응하는 누적 설명 비중을 확인하는 것이 목적이므로, X축에는 index에 1을 더한 값을 배치('개수'를 뜻함)\n",
        "plt.plot(list(range(1, 1+len(exp_var_ratio_cumsum))), exp_var_ratio_cumsum)\n",
        "plt.xlabel(\"Number of Components\")\n",
        "plt.ylabel(\"Cumulated Sum of Explained Variance Ratio\")\n",
        "plt.show()\n",
        "\n",
        "print(exp_var_ratio_cumsum)"
      ],
      "metadata": {
        "colab": {
          "base_uri": "https://localhost:8080/",
          "height": 1000
        },
        "id": "ApwIpTrNuCZA",
        "outputId": "56ea568d-5a86-4dd2-b850-15edb68a989f"
      },
      "execution_count": 42,
      "outputs": [
        {
          "output_type": "display_data",
          "data": {
            "text/plain": [
              "<Figure size 432x288 with 1 Axes>"
            ],
            "image/png": "[encoded data removed]"
          },
          "metadata": {
            "needs_background": "light"
          }
        },
        {
          "output_type": "stream",
          "name": "stdout",
          "text": [
            "[0.09756781 0.1691828  0.23060795 0.2847571  0.33365672 0.37664598\n",
            " 0.40949477 0.43832243 0.46589306 0.48939944 0.51043532 0.530712\n",
            " 0.54776875 0.56477768 0.58057101 0.59543698 0.60866842 0.62146366\n",
            " 0.6333421  0.64479563 0.6554773  0.6655575  0.67513526 0.68422141\n",
            " 0.69304315 0.70143391 0.70955274 0.7174359  0.72481571 0.73173172\n",
            " 0.73829721 0.74474888 0.75077736 0.75661833 0.76229332 0.76771555\n",
            " 0.77276549 0.77761992 0.78240539 0.78708188 0.79163739 0.79608277\n",
            " 0.80026749 0.80422848 0.80806946 0.81181543 0.81543894 0.81893013\n",
            " 0.82230821 0.82551781 0.82869503 0.83179701 0.83475554 0.83763675\n",
            " 0.84045193 0.84314899 0.84582646 0.84839593 0.85092513 0.85337146\n",
            " 0.85578853 0.85817242 0.86045251 0.86265616 0.86479099 0.8668564\n",
            " 0.86888365 0.87083728 0.87274918 0.87463266 0.87649848 0.87830305\n",
            " 0.88006666 0.88180566 0.88345411 0.88508202 0.88669903 0.88823836\n",
            " 0.8897139  0.89113574 0.89254253 0.89394098 0.89533499 0.89668764\n",
            " 0.89801459 0.89933319 0.90061743 0.90186761 0.90308999 0.90429536\n",
            " 0.90545931 0.90660569 0.90773412 0.90883894 0.90992362 0.91099498\n",
            " 0.91202828 0.91306007 0.91406625 0.91506781 0.91603907 0.9169795\n",
            " 0.91791302 0.91882847 0.91973022 0.9206211  0.92148234 0.92233489\n",
            " 0.92317196 0.92399011 0.92477699 0.92555679 0.92633344 0.92710116\n",
            " 0.92786127 0.92861062 0.92934207 0.93006633 0.93078225 0.93148496\n",
            " 0.93217713 0.93286303 0.93354103 0.93421125 0.93487301 0.93551498\n",
            " 0.93614658 0.93677272 0.93739097 0.9379943  0.93859553 0.93918956\n",
            " 0.93977967 0.94036368 0.94094539 0.94151941 0.94207939 0.94263286\n",
            " 0.94316759 0.94369273 0.94421341 0.94472287 0.94522466 0.94572173\n",
            " 0.94621688 0.94670707 0.94719202 0.94767156 0.94814347 0.94861026\n",
            " 0.94907502 0.94953703 0.94999451 0.95044489 0.95089172 0.9513331\n",
            " 0.9517706  0.95219538 0.95261653 0.95303479 0.95344871 0.95385524\n",
            " 0.95425265 0.95464593 0.95503793 0.95542796 0.9558121  0.9561914\n",
            " 0.95656666 0.9569389  0.95730485 0.95766939 0.95803224 0.95838823\n",
            " 0.95874258 0.95909557 0.95944123 0.95978474 0.96012559 0.96046434\n",
            " 0.96079817 0.96112799 0.96145461 0.96177838 0.9621005  0.96242094\n",
            " 0.96273765 0.96305118 0.96336109 0.96366921 0.9639746  0.96427677\n",
            " 0.96457794 0.96487726 0.96517311 0.9654683  0.96576147 0.96605306\n",
            " 0.96633829 0.96662158 0.96690396 0.96718063 0.96745402 0.96772667\n",
            " 0.96799477 0.96826225 0.96852745 0.96879095 0.96905204 0.96931059\n",
            " 0.96956811 0.96982509 0.97007851 0.97033016 0.97058045 0.97082872\n",
            " 0.97107592 0.97132091 0.97156295 0.97180449 0.97204513 0.9722847\n",
            " 0.97252228 0.97275858 0.97299044 0.97322126 0.9734515  0.97367966\n",
            " 0.97390637 0.97412936 0.97434899 0.97456772 0.97478405 0.97499861\n",
            " 0.97521177 0.97542465 0.97563608 0.97584551 0.97605438 0.97626022\n",
            " 0.9764652  0.97666794 0.97686963 0.97706996 0.97726794 0.97746534\n",
            " 0.97766099 0.97785377 0.97804541 0.978236   0.97842613 0.97861421\n",
            " 0.97880192 0.97898784 0.97917315 0.97935767 0.97954121 0.97972409\n",
            " 0.9799059  0.98008547 0.98026254 0.98043879 0.98061374 0.98078725\n",
            " 0.9809595  0.98113112 0.981302   0.9814726  0.98164131 0.98180825\n",
            " 0.98197483 0.98214071 0.98230443 0.98246752 0.98262986 0.9827918\n",
            " 0.98295177 0.98311074 0.98326937 0.98342647 0.98358179 0.98373614\n",
            " 0.98388935 0.98404123 0.98419258 0.98434227 0.98449112 0.98463944\n",
            " 0.9847871  0.984933   0.9850773  0.98522063 0.9853632  0.98550505\n",
            " 0.98564652 0.98578652 0.98592425 0.98606106 0.98619671 0.98633154\n",
            " 0.98646615 0.98660039 0.98673382 0.9868666  0.98699748 0.98712656\n",
            " 0.98725546 0.98738266 0.98750945 0.98763614 0.98776225 0.98788796\n",
            " 0.98801227 0.98813549 0.98825703 0.98837805 0.98849819 0.98861756\n",
            " 0.9887363  0.98885479 0.98897212 0.98908887 0.98920497 0.98932004\n",
            " 0.98943427 0.98954821 0.9896604  0.98977112 0.98988144 0.98999126\n",
            " 0.9901005  0.99020956 0.99031719 0.99042415 0.99053034 0.99063621\n",
            " 0.990742   0.9908465  0.99094921 0.99105146 0.99115323 0.99125335\n",
            " 0.99135316 0.99145227 0.99155112 0.99164908 0.99174646 0.99184293\n",
            " 0.99193778 0.99203177 0.99212523 0.9922183  0.99231043 0.99240195\n",
            " 0.99249255 0.99258284 0.99267205 0.99276101 0.9928493  0.99293692\n",
            " 0.99302396 0.99311024 0.99319541 0.99328007 0.99336424 0.99344756\n",
            " 0.9935297  0.99361166 0.99369311 0.99377375 0.99385422 0.9939334\n",
            " 0.99401209 0.99408994 0.99416726 0.99424391 0.99432027 0.99439599\n",
            " 0.994471   0.99454468 0.99461795 0.99469065 0.99476278 0.9948346\n",
            " 0.99490543 0.99497583 0.99504509 0.99511415 0.99518195 0.9952488\n",
            " 0.99531504 0.99538094 0.99544536 0.99550908 0.99557234 0.99563522\n",
            " 0.99569692 0.99575801 0.99581773 0.99587713 0.99593582 0.99599402\n",
            " 0.99605211 0.99610914 0.99616564 0.99622131 0.99627631 0.99633064\n",
            " 0.99638465 0.99643853 0.99649138 0.99654386 0.99659592 0.99664708\n",
            " 0.99669779 0.99674802 0.99679751 0.99684687 0.99689584 0.99694333\n",
            " 0.99699013 0.99703666 0.99708272 0.99712843 0.99717309 0.99721722\n",
            " 0.99726045 0.99730264 0.99734457 0.99738625 0.99742722 0.99746784\n",
            " 0.99750806 0.99754814 0.99758809 0.9976263  0.99766444 0.99770211\n",
            " 0.99773939 0.99777644 0.99781336 0.99784976 0.99788488 0.9979197\n",
            " 0.99795427 0.99798846 0.99802241 0.99805635 0.99808914 0.99812149\n",
            " 0.99815353 0.99818513 0.99821623 0.99824685 0.99827669 0.99830623\n",
            " 0.99833548 0.99836441 0.99839318 0.99842142 0.99844896 0.99847615\n",
            " 0.99850313 0.99852966 0.99855544 0.9985807  0.99860581 0.99863048\n",
            " 0.99865485 0.99867889 0.99870287 0.99872656 0.9987499  0.99877313\n",
            " 0.99879607 0.99881865 0.9988409  0.99886233 0.9988836  0.99890463\n",
            " 0.99892546 0.99894614 0.99896631 0.99898631 0.999006   0.99902544\n",
            " 0.99904466 0.99906353 0.99908231 0.99910053 0.99911841 0.99913613\n",
            " 0.99915341 0.99917049 0.99918676 0.99920279 0.99921877 0.99923455\n",
            " 0.99925029 0.99926574 0.99928056 0.99929525 0.99930981 0.99932423\n",
            " 0.99933822 0.99935209 0.99936572 0.99937918 0.99939255 0.99940568\n",
            " 0.99941862 0.99943142 0.99944373 0.99945588 0.9994679  0.99947944\n",
            " 0.9994908  0.99950205 0.99951322 0.9995243  0.9995353  0.99954609\n",
            " 0.99955688 0.99956736 0.99957761 0.99958777 0.99959772 0.99960708\n",
            " 0.99961632 0.99962547 0.99963456 0.99964362 0.9996525  0.99966078\n",
            " 0.99966879 0.99967663 0.99968437 0.99969202 0.99969962 0.99970711\n",
            " 0.99971453 0.99972182 0.99972905 0.99973626 0.99974331 0.9997503\n",
            " 0.99975694 0.99976356 0.99976983 0.99977605 0.99978196 0.99978777\n",
            " 0.99979353 0.999799   0.99980435 0.99980964 0.99981484 0.99981992\n",
            " 0.99982489 0.99982969 0.99983445 0.99983914 0.99984364 0.99984813\n",
            " 0.99985249 0.9998567  0.99986086 0.99986497 0.99986896 0.99987288\n",
            " 0.9998768  0.99988064 0.99988435 0.99988777 0.99989106 0.99989432\n",
            " 0.99989749 0.99990059 0.99990368 0.99990664 0.99990958 0.99991248\n",
            " 0.99991527 0.99991795 0.99992063 0.9999232  0.99992568 0.99992807\n",
            " 0.99993038 0.9999326  0.99993478 0.99993691 0.99993888 0.99994083\n",
            " 0.99994276 0.99994467 0.99994652 0.99994836 0.99995018 0.99995194\n",
            " 0.99995365 0.99995525 0.99995685 0.99995844 0.99995998 0.99996153\n",
            " 0.99996288 0.99996421 0.99996553 0.99996682 0.99996799 0.99996916\n",
            " 0.99997032 0.99997145 0.99997256 0.99997363 0.99997468 0.9999757\n",
            " 0.99997667 0.99997763 0.99997858 0.99997951 0.99998039 0.99998127\n",
            " 0.99998213 0.99998294 0.99998371 0.99998447 0.99998517 0.99998584\n",
            " 0.99998646 0.99998707 0.99998767 0.99998824 0.99998881 0.99998934\n",
            " 0.99998986 0.99999035 0.99999084 0.99999133 0.99999181 0.99999227\n",
            " 0.99999273 0.99999314 0.99999352 0.99999389 0.99999425 0.99999458\n",
            " 0.99999491 0.99999523 0.99999549 0.99999575 0.999996   0.99999625\n",
            " 0.9999965  0.99999673 0.99999694 0.99999714 0.99999733 0.99999751\n",
            " 0.99999768 0.99999784 0.99999801 0.99999816 0.99999831 0.99999845\n",
            " 0.99999857 0.99999869 0.9999988  0.99999891 0.99999902 0.99999912\n",
            " 0.99999921 0.99999929 0.99999936 0.99999943 0.9999995  0.99999955\n",
            " 0.99999961 0.99999965 0.99999969 0.99999973 0.99999977 0.9999998\n",
            " 0.99999983 0.99999985 0.99999986 0.99999988 0.9999999  0.99999991\n",
            " 0.99999992 0.99999993 0.99999995 0.99999995 0.99999996 0.99999997\n",
            " 0.99999998 0.99999998 0.99999999 0.99999999 0.99999999 0.99999999\n",
            " 1.         1.         1.         1.         1.         1.\n",
            " 1.         1.         1.         1.         1.         1.\n",
            " 1.         1.         1.         1.         1.         1.\n",
            " 1.         1.         1.         1.         1.         1.\n",
            " 1.         1.         1.         1.         1.         1.\n",
            " 1.         1.         1.         1.         1.         1.\n",
            " 1.         1.         1.         1.         1.         1.\n",
            " 1.         1.         1.         1.         1.         1.\n",
            " 1.         1.         1.         1.         1.         1.\n",
            " 1.         1.         1.         1.         1.         1.\n",
            " 1.         1.         1.         1.         1.         1.\n",
            " 1.         1.         1.         1.         1.         1.\n",
            " 1.         1.         1.         1.         1.         1.\n",
            " 1.         1.         1.         1.        ]\n"
          ]
        }
      ]
    },
    {
      "cell_type": "markdown",
      "metadata": {
        "id": "Y6GwQRgHj3pp"
      },
      "source": [
        "### 3) 지금까지 배웠던 머신러닝 기법을 이용하여 학습해주세요 (2개이상 사용)"
      ]
    },
    {
      "cell_type": "markdown",
      "metadata": {
        "id": "zknqJSHIj3pp"
      },
      "source": [
        "###  이때 time stamp를 찍어서 training 시간을 비교하고, test accuracy도 비교해주세요\n",
        "#### (원본 데이터 & PCA 축소 데이터 & LDA 축소 데이터 비교)"
      ]
    },
    {
      "cell_type": "code",
      "source": [
        "import time \n",
        "from sklearn.ensemble import RandomForestClassifier\n",
        "import xgboost    \n",
        "from sklearn.metrics import accuracy_score    "
      ],
      "metadata": {
        "id": "t2ZslGP_wIbP"
      },
      "execution_count": 44,
      "outputs": []
    },
    {
      "cell_type": "code",
      "source": [
        "RF = RandomForestClassifier()\n",
        "start = time.time()     # 시작 시간\n",
        "RF.fit(X_train, np.ravel(y_train))     # 원본 데이터 Training\n",
        "end = time.time()     # 완료 시간\n",
        "elapse_time = end - start     # 경과 시간\n",
        "\n",
        "print(\"Random Forest Training Time : {} seconds\".format(round(elapse_time,5)))\n",
        "print(\"Test Accuracy : {} \".format(round(accuracy_score(y_test, RF.predict(X_test)),5)))"
      ],
      "metadata": {
        "colab": {
          "base_uri": "https://localhost:8080/"
        },
        "id": "05RB2Q3Lwyeu",
        "outputId": "528aa9eb-1805-4dd6-e6dd-dfb7fc759a54"
      },
      "execution_count": 50,
      "outputs": [
        {
          "output_type": "stream",
          "name": "stdout",
          "text": [
            "Random Forest Training Time : 35.8158 seconds\n",
            "Test Accuracy : 0.96943 \n"
          ]
        }
      ]
    },
    {
      "cell_type": "code",
      "source": [
        "# XGB 가 엄청 오래 걸립니다... 거의 10분 좀 넘게 걸립니다.\n",
        "XGB = xgboost.XGBClassifier()\n",
        "start = time.time()     # 시작 시간\n",
        "XGB.fit(X_train, np.ravel(y_train))     # 원본 데이터 Training\n",
        "end = time.time()     # 완료 시간\n",
        "elapse_time = end - start     # 경과 시간\n",
        "\n",
        "print(\"Random Forest Training Time : {} seconds\".format(round(elapse_time,5)))\n",
        "print(\"Test Accuracy : {} \".format(round(accuracy_score(y_test, XGB.predict(X_test)),5)))"
      ],
      "metadata": {
        "colab": {
          "base_uri": "https://localhost:8080/"
        },
        "id": "VILAglmhwyZj",
        "outputId": "beee50c4-a640-444a-b20b-2173deba42a9"
      },
      "execution_count": 52,
      "outputs": [
        {
          "output_type": "stream",
          "name": "stdout",
          "text": [
            "Random Forest Training Time : 656.80134 seconds\n",
            "Test Accuracy : 0.93536 \n"
          ]
        }
      ]
    },
    {
      "cell_type": "code",
      "execution_count": 46,
      "metadata": {
        "id": "igWH-nGtj3pp"
      },
      "outputs": [],
      "source": [
        ""
      ]
    },
    {
      "cell_type": "markdown",
      "metadata": {
        "id": "V3YwKi6gj3pq"
      },
      "source": [
        "특정한 틀 없이 자유롭게 해주시면 됩니다!"
      ]
    }
  ],
  "metadata": {
    "kernelspec": {
      "display_name": "Python 3 (ipykernel)",
      "language": "python",
      "name": "python3"
    },
    "language_info": {
      "codemirror_mode": {
        "name": "ipython",
        "version": 3
      },
      "file_extension": ".py",
      "mimetype": "text/x-python",
      "name": "python",
      "nbconvert_exporter": "python",
      "pygments_lexer": "ipython3",
      "version": "3.8.6"
    },
    "colab": {
      "name": "4주차_DR2_김성우.ipynb",
      "provenance": [],
      "collapsed_sections": [],
      "include_colab_link": true
    }
  },
  "nbformat": 4,
  "nbformat_minor": 0
}