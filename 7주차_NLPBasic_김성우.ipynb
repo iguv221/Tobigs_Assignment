{
 "cells": [
  {
   "cell_type": "markdown",
   "metadata": {},
   "source": [
    "# NLP Basic Assignment\n",
    "## NLP 맛보기 - spam.csv를 가지고 유의미한 해석을 도출해주세요!"
   ]
  },
  {
   "cell_type": "code",
   "execution_count": 28,
   "metadata": {},
   "outputs": [],
   "source": [
    "# 필요한 모듈 불러오기\n",
    "import pandas as pd\n",
    "import numpy as np\n",
    "import matplotlib.pyplot as plt\n",
    "import seaborn as sns"
   ]
  },
  {
   "cell_type": "markdown",
   "metadata": {},
   "source": [
    "## Load Data\n",
    "- 보시면 아시다시피 spam.csv는 라벨이 있는 데이터입니다. 물론 7주차 주제가 텍스트 기초인만큼 텍스트만 활용하셔도 되고, 라벨까지 활용하셔서 모델을 돌려보셔도 좋습니다 :)"
   ]
  },
  {
   "cell_type": "code",
   "execution_count": 29,
   "metadata": {},
   "outputs": [
    {
     "data": {
      "text/html": [
       "<div>\n",
       "<style scoped>\n",
       "    .dataframe tbody tr th:only-of-type {\n",
       "        vertical-align: middle;\n",
       "    }\n",
       "\n",
       "    .dataframe tbody tr th {\n",
       "        vertical-align: top;\n",
       "    }\n",
       "\n",
       "    .dataframe thead th {\n",
       "        text-align: right;\n",
       "    }\n",
       "</style>\n",
       "<table border=\"1\" class=\"dataframe\">\n",
       "  <thead>\n",
       "    <tr style=\"text-align: right;\">\n",
       "      <th></th>\n",
       "      <th>v1</th>\n",
       "      <th>v2</th>\n",
       "    </tr>\n",
       "  </thead>\n",
       "  <tbody>\n",
       "    <tr>\n",
       "      <th>0</th>\n",
       "      <td>ham</td>\n",
       "      <td>Go until jurong point, crazy.. Available only in bugis n great world la e buffet... Cine there got amore wat...</td>\n",
       "    </tr>\n",
       "    <tr>\n",
       "      <th>1</th>\n",
       "      <td>ham</td>\n",
       "      <td>Ok lar... Joking wif u oni...</td>\n",
       "    </tr>\n",
       "    <tr>\n",
       "      <th>2</th>\n",
       "      <td>spam</td>\n",
       "      <td>Free entry in 2 a wkly comp to win FA Cup final tkts 21st May 2005. Text FA to 87121 to receive entry question(std txt rate)T&amp;C's apply 08452810075over18's</td>\n",
       "    </tr>\n",
       "    <tr>\n",
       "      <th>3</th>\n",
       "      <td>ham</td>\n",
       "      <td>U dun say so early hor... U c already then say...</td>\n",
       "    </tr>\n",
       "    <tr>\n",
       "      <th>4</th>\n",
       "      <td>ham</td>\n",
       "      <td>Nah I don't think he goes to usf, he lives around here though</td>\n",
       "    </tr>\n",
       "    <tr>\n",
       "      <th>...</th>\n",
       "      <td>...</td>\n",
       "      <td>...</td>\n",
       "    </tr>\n",
       "    <tr>\n",
       "      <th>5567</th>\n",
       "      <td>spam</td>\n",
       "      <td>This is the 2nd time we have tried 2 contact u. U have won the å£750 Pound prize. 2 claim is easy, call 087187272008 NOW1! Only 10p per minute. BT-national-rate.</td>\n",
       "    </tr>\n",
       "    <tr>\n",
       "      <th>5568</th>\n",
       "      <td>ham</td>\n",
       "      <td>Will Ì_ b going to esplanade fr home?</td>\n",
       "    </tr>\n",
       "    <tr>\n",
       "      <th>5569</th>\n",
       "      <td>ham</td>\n",
       "      <td>Pity, * was in mood for that. So...any other suggestions?</td>\n",
       "    </tr>\n",
       "    <tr>\n",
       "      <th>5570</th>\n",
       "      <td>ham</td>\n",
       "      <td>The guy did some bitching but I acted like i'd be interested in buying something else next week and he gave it to us for free</td>\n",
       "    </tr>\n",
       "    <tr>\n",
       "      <th>5571</th>\n",
       "      <td>ham</td>\n",
       "      <td>Rofl. Its true to its name</td>\n",
       "    </tr>\n",
       "  </tbody>\n",
       "</table>\n",
       "<p>5572 rows × 2 columns</p>\n",
       "</div>"
      ],
      "text/plain": [
       "        v1  \\\n",
       "0     ham    \n",
       "1     ham    \n",
       "2     spam   \n",
       "3     ham    \n",
       "4     ham    \n",
       "...   ...    \n",
       "5567  spam   \n",
       "5568  ham    \n",
       "5569  ham    \n",
       "5570  ham    \n",
       "5571  ham    \n",
       "\n",
       "                                                                                                                                                                     v2  \n",
       "0     Go until jurong point, crazy.. Available only in bugis n great world la e buffet... Cine there got amore wat...                                                    \n",
       "1     Ok lar... Joking wif u oni...                                                                                                                                      \n",
       "2     Free entry in 2 a wkly comp to win FA Cup final tkts 21st May 2005. Text FA to 87121 to receive entry question(std txt rate)T&C's apply 08452810075over18's        \n",
       "3     U dun say so early hor... U c already then say...                                                                                                                  \n",
       "4     Nah I don't think he goes to usf, he lives around here though                                                                                                      \n",
       "...                                                             ...                                                                                                      \n",
       "5567  This is the 2nd time we have tried 2 contact u. U have won the å£750 Pound prize. 2 claim is easy, call 087187272008 NOW1! Only 10p per minute. BT-national-rate.  \n",
       "5568  Will Ì_ b going to esplanade fr home?                                                                                                                              \n",
       "5569  Pity, * was in mood for that. So...any other suggestions?                                                                                                          \n",
       "5570  The guy did some bitching but I acted like i'd be interested in buying something else next week and he gave it to us for free                                      \n",
       "5571  Rofl. Its true to its name                                                                                                                                         \n",
       "\n",
       "[5572 rows x 2 columns]"
      ]
     },
     "execution_count": 29,
     "metadata": {},
     "output_type": "execute_result"
    }
   ],
   "source": [
    "spam = pd.read_csv('spam.csv')\n",
    "spam"
   ]
  },
  {
   "cell_type": "code",
   "execution_count": 30,
   "metadata": {},
   "outputs": [
    {
     "data": {
      "text/plain": [
       "ham     4825\n",
       "spam    747 \n",
       "Name: v1, dtype: int64"
      ]
     },
     "execution_count": 30,
     "metadata": {},
     "output_type": "execute_result"
    }
   ],
   "source": [
    "spam['v1'].value_counts()"
   ]
  },
  {
   "cell_type": "code",
   "execution_count": 31,
   "metadata": {},
   "outputs": [
    {
     "data": {
      "text/plain": [
       "\"FreeMsg Hey there darling it's been 3 week's now and no word back! I'd like some fun you up for it still? Tb ok! XxX std chgs to send, å£1.50 to rcv\""
      ]
     },
     "execution_count": 31,
     "metadata": {},
     "output_type": "execute_result"
    }
   ],
   "source": [
    "spam.iloc[5]['v2']"
   ]
  },
  {
   "cell_type": "code",
   "execution_count": 32,
   "metadata": {},
   "outputs": [
    {
     "data": {
      "text/html": [
       "<div>\n",
       "<style scoped>\n",
       "    .dataframe tbody tr th:only-of-type {\n",
       "        vertical-align: middle;\n",
       "    }\n",
       "\n",
       "    .dataframe tbody tr th {\n",
       "        vertical-align: top;\n",
       "    }\n",
       "\n",
       "    .dataframe thead th {\n",
       "        text-align: right;\n",
       "    }\n",
       "</style>\n",
       "<table border=\"1\" class=\"dataframe\">\n",
       "  <thead>\n",
       "    <tr style=\"text-align: right;\">\n",
       "      <th></th>\n",
       "      <th>v1</th>\n",
       "      <th>v2</th>\n",
       "    </tr>\n",
       "  </thead>\n",
       "  <tbody>\n",
       "    <tr>\n",
       "      <th>0</th>\n",
       "      <td>0</td>\n",
       "      <td>Go until jurong point, crazy.. Available only in bugis n great world la e buffet... Cine there got amore wat...</td>\n",
       "    </tr>\n",
       "    <tr>\n",
       "      <th>1</th>\n",
       "      <td>0</td>\n",
       "      <td>Ok lar... Joking wif u oni...</td>\n",
       "    </tr>\n",
       "    <tr>\n",
       "      <th>2</th>\n",
       "      <td>1</td>\n",
       "      <td>Free entry in 2 a wkly comp to win FA Cup final tkts 21st May 2005. Text FA to 87121 to receive entry question(std txt rate)T&amp;C's apply 08452810075over18's</td>\n",
       "    </tr>\n",
       "    <tr>\n",
       "      <th>3</th>\n",
       "      <td>0</td>\n",
       "      <td>U dun say so early hor... U c already then say...</td>\n",
       "    </tr>\n",
       "    <tr>\n",
       "      <th>4</th>\n",
       "      <td>0</td>\n",
       "      <td>Nah I don't think he goes to usf, he lives around here though</td>\n",
       "    </tr>\n",
       "    <tr>\n",
       "      <th>...</th>\n",
       "      <td>...</td>\n",
       "      <td>...</td>\n",
       "    </tr>\n",
       "    <tr>\n",
       "      <th>5567</th>\n",
       "      <td>1</td>\n",
       "      <td>This is the 2nd time we have tried 2 contact u. U have won the å£750 Pound prize. 2 claim is easy, call 087187272008 NOW1! Only 10p per minute. BT-national-rate.</td>\n",
       "    </tr>\n",
       "    <tr>\n",
       "      <th>5568</th>\n",
       "      <td>0</td>\n",
       "      <td>Will Ì_ b going to esplanade fr home?</td>\n",
       "    </tr>\n",
       "    <tr>\n",
       "      <th>5569</th>\n",
       "      <td>0</td>\n",
       "      <td>Pity, * was in mood for that. So...any other suggestions?</td>\n",
       "    </tr>\n",
       "    <tr>\n",
       "      <th>5570</th>\n",
       "      <td>0</td>\n",
       "      <td>The guy did some bitching but I acted like i'd be interested in buying something else next week and he gave it to us for free</td>\n",
       "    </tr>\n",
       "    <tr>\n",
       "      <th>5571</th>\n",
       "      <td>0</td>\n",
       "      <td>Rofl. Its true to its name</td>\n",
       "    </tr>\n",
       "  </tbody>\n",
       "</table>\n",
       "<p>5572 rows × 2 columns</p>\n",
       "</div>"
      ],
      "text/plain": [
       "      v1  \\\n",
       "0     0    \n",
       "1     0    \n",
       "2     1    \n",
       "3     0    \n",
       "4     0    \n",
       "...  ..    \n",
       "5567  1    \n",
       "5568  0    \n",
       "5569  0    \n",
       "5570  0    \n",
       "5571  0    \n",
       "\n",
       "                                                                                                                                                                     v2  \n",
       "0     Go until jurong point, crazy.. Available only in bugis n great world la e buffet... Cine there got amore wat...                                                    \n",
       "1     Ok lar... Joking wif u oni...                                                                                                                                      \n",
       "2     Free entry in 2 a wkly comp to win FA Cup final tkts 21st May 2005. Text FA to 87121 to receive entry question(std txt rate)T&C's apply 08452810075over18's        \n",
       "3     U dun say so early hor... U c already then say...                                                                                                                  \n",
       "4     Nah I don't think he goes to usf, he lives around here though                                                                                                      \n",
       "...                                                             ...                                                                                                      \n",
       "5567  This is the 2nd time we have tried 2 contact u. U have won the å£750 Pound prize. 2 claim is easy, call 087187272008 NOW1! Only 10p per minute. BT-national-rate.  \n",
       "5568  Will Ì_ b going to esplanade fr home?                                                                                                                              \n",
       "5569  Pity, * was in mood for that. So...any other suggestions?                                                                                                          \n",
       "5570  The guy did some bitching but I acted like i'd be interested in buying something else next week and he gave it to us for free                                      \n",
       "5571  Rofl. Its true to its name                                                                                                                                         \n",
       "\n",
       "[5572 rows x 2 columns]"
      ]
     },
     "execution_count": 32,
     "metadata": {},
     "output_type": "execute_result"
    }
   ],
   "source": [
    "# spam -> 0, ham -> 1로 바꾸기\n",
    "spam.v1 = spam.v1.replace(['ham','spam'],[0,1])\n",
    "spam"
   ]
  },
  {
   "cell_type": "code",
   "execution_count": null,
   "metadata": {},
   "outputs": [],
   "source": []
  },
  {
   "cell_type": "markdown",
   "metadata": {},
   "source": [
    "## Tokenizing\n"
   ]
  },
  {
   "cell_type": "code",
   "execution_count": 33,
   "metadata": {},
   "outputs": [],
   "source": [
    "import nltk"
   ]
  },
  {
   "cell_type": "code",
   "execution_count": 34,
   "metadata": {},
   "outputs": [
    {
     "name": "stderr",
     "output_type": "stream",
     "text": [
      "[nltk_data] Downloading package punkt to\n",
      "[nltk_data]     C:\\Users\\iguv2\\AppData\\Roaming\\nltk_data...\n",
      "[nltk_data]   Package punkt is already up-to-date!\n"
     ]
    },
    {
     "data": {
      "text/plain": [
       "['FreeMsg',\n",
       " 'Hey',\n",
       " 'there',\n",
       " 'darling',\n",
       " 'it',\n",
       " \"'s\",\n",
       " 'been',\n",
       " '3',\n",
       " 'week',\n",
       " \"'s\",\n",
       " 'now',\n",
       " 'and',\n",
       " 'no',\n",
       " 'word',\n",
       " 'back',\n",
       " '!',\n",
       " 'I',\n",
       " \"'d\",\n",
       " 'like',\n",
       " 'some',\n",
       " 'fun',\n",
       " 'you',\n",
       " 'up',\n",
       " 'for',\n",
       " 'it',\n",
       " 'still',\n",
       " '?',\n",
       " 'Tb',\n",
       " 'ok',\n",
       " '!',\n",
       " 'XxX',\n",
       " 'std',\n",
       " 'chgs',\n",
       " 'to',\n",
       " 'send',\n",
       " ',',\n",
       " 'å£1.50',\n",
       " 'to',\n",
       " 'rcv']"
      ]
     },
     "execution_count": 34,
     "metadata": {},
     "output_type": "execute_result"
    }
   ],
   "source": [
    "# 예시 코드 코드\n",
    "from nltk.tokenize import word_tokenize\n",
    "\n",
    "nltk.download('punkt')\n",
    "word_tokenize(spam.iloc[5]['v2'])"
   ]
  },
  {
   "cell_type": "code",
   "execution_count": 35,
   "metadata": {},
   "outputs": [
    {
     "name": "stdout",
     "output_type": "stream",
     "text": [
      "{'very', 'such', 'needn', 'theirs', 'mightn', 'myself', 'each', 'do', 'at', 'will', 'until', 'don', 'weren', 'mustn', 'won', 'most', 'further', 'aren', 'then', \"haven't\", 'does', \"isn't\", 'few', 'same', 'a', 'when', 'ourselves', \"mustn't\", 've', 'an', 'yourself', \"wouldn't\", 'too', 'over', 'not', \"couldn't\", 'why', 'whom', \"should've\", 'which', 'ours', 'you', 'll', 'his', 'i', 'this', 'while', \"that'll\", \"doesn't\", 'or', 'as', 'was', \"hadn't\", 'been', 'am', 'he', 'other', 'had', 'some', 'through', \"shan't\", 'our', 'more', 'themselves', \"needn't\", 'couldn', 'after', 'those', 'both', 'ain', 'any', \"wasn't\", 'down', \"don't\", 'is', 'but', 'm', \"shouldn't\", \"won't\", 'isn', 'ma', 'above', 'its', 'own', 'have', 'being', 'yourselves', 'it', 'doing', 'y', 'that', 'no', \"hasn't\", \"it's\", 'their', 'how', 'in', 'against', 'out', 'on', 'here', 'hadn', 'only', 'the', 'she', 'my', 'shan', 'and', 'before', 'up', 'with', 'be', 'they', 'are', 'we', 'd', 'there', 'haven', 'her', 'to', 'doesn', 'if', 'into', 'nor', 'having', 'these', 'now', 'o', \"weren't\", 'by', 'below', 'hers', 'wasn', 'did', 'were', 'who', \"didn't\", 'hasn', 'herself', 'of', 'off', 'about', 'so', 't', \"you'd\", 'your', 'where', 'them', 'has', 'him', 'for', 'during', 'just', \"aren't\", 'than', \"you've\", 'once', 'itself', \"she's\", 'yours', \"mightn't\", 'wouldn', \"you'll\", 'can', 'all', 's', 'didn', 'should', 'himself', 'shouldn', \"you're\", 'from', 'because', 'what', 'again', 'between', 're', 'me', 'under'}\n"
     ]
    },
    {
     "name": "stderr",
     "output_type": "stream",
     "text": [
      "[nltk_data] Downloading package stopwords to\n",
      "[nltk_data]     C:\\Users\\iguv2\\AppData\\Roaming\\nltk_data...\n",
      "[nltk_data]   Package stopwords is already up-to-date!\n"
     ]
    }
   ],
   "source": [
    "nltk.download('stopwords')\n",
    "from nltk.corpus import stopwords\n",
    "stop_words = set(stopwords.words('english')) \n",
    "print(stop_words)"
   ]
  },
  {
   "cell_type": "code",
   "execution_count": 36,
   "metadata": {},
   "outputs": [
    {
     "data": {
      "text/html": [
       "<div>\n",
       "<style scoped>\n",
       "    .dataframe tbody tr th:only-of-type {\n",
       "        vertical-align: middle;\n",
       "    }\n",
       "\n",
       "    .dataframe tbody tr th {\n",
       "        vertical-align: top;\n",
       "    }\n",
       "\n",
       "    .dataframe thead th {\n",
       "        text-align: right;\n",
       "    }\n",
       "</style>\n",
       "<table border=\"1\" class=\"dataframe\">\n",
       "  <thead>\n",
       "    <tr style=\"text-align: right;\">\n",
       "      <th></th>\n",
       "      <th>v1</th>\n",
       "      <th>v2</th>\n",
       "    </tr>\n",
       "  </thead>\n",
       "  <tbody>\n",
       "    <tr>\n",
       "      <th>0</th>\n",
       "      <td>0</td>\n",
       "      <td>[Go, jurong, point, ,, crazy, .., Available, bugis, n, great, world, la, e, buffet, ..., Cine, got, amore, wat, ...]</td>\n",
       "    </tr>\n",
       "    <tr>\n",
       "      <th>1</th>\n",
       "      <td>0</td>\n",
       "      <td>[Ok, lar, ..., Joking, wif, u, oni, ...]</td>\n",
       "    </tr>\n",
       "    <tr>\n",
       "      <th>2</th>\n",
       "      <td>1</td>\n",
       "      <td>[Free, entry, 2, wkly, comp, win, FA, Cup, final, tkts, 21st, May, 2005, ., Text, FA, 87121, receive, entry, question, (, std, txt, rate, ), T, &amp;, C, 's, apply, 08452810075over18, 's]</td>\n",
       "    </tr>\n",
       "    <tr>\n",
       "      <th>3</th>\n",
       "      <td>0</td>\n",
       "      <td>[U, dun, say, early, hor, ..., U, c, already, say, ...]</td>\n",
       "    </tr>\n",
       "    <tr>\n",
       "      <th>4</th>\n",
       "      <td>0</td>\n",
       "      <td>[Nah, I, n't, think, goes, usf, ,, lives, around, though]</td>\n",
       "    </tr>\n",
       "    <tr>\n",
       "      <th>...</th>\n",
       "      <td>...</td>\n",
       "      <td>...</td>\n",
       "    </tr>\n",
       "    <tr>\n",
       "      <th>5567</th>\n",
       "      <td>1</td>\n",
       "      <td>[This, 2nd, time, tried, 2, contact, u., U, å£750, Pound, prize, ., 2, claim, easy, ,, call, 087187272008, NOW1, !, Only, 10p, per, minute, ., BT-national-rate, .]</td>\n",
       "    </tr>\n",
       "    <tr>\n",
       "      <th>5568</th>\n",
       "      <td>0</td>\n",
       "      <td>[Will, Ì_, b, going, esplanade, fr, home, ?]</td>\n",
       "    </tr>\n",
       "    <tr>\n",
       "      <th>5569</th>\n",
       "      <td>0</td>\n",
       "      <td>[Pity, ,, *, mood, ., So, ..., suggestions, ?]</td>\n",
       "    </tr>\n",
       "    <tr>\n",
       "      <th>5570</th>\n",
       "      <td>0</td>\n",
       "      <td>[The, guy, bitching, I, acted, like, 'd, interested, buying, something, else, next, week, gave, us, free]</td>\n",
       "    </tr>\n",
       "    <tr>\n",
       "      <th>5571</th>\n",
       "      <td>0</td>\n",
       "      <td>[Rofl, ., Its, true, name]</td>\n",
       "    </tr>\n",
       "  </tbody>\n",
       "</table>\n",
       "<p>5572 rows × 2 columns</p>\n",
       "</div>"
      ],
      "text/plain": [
       "      v1  \\\n",
       "0     0    \n",
       "1     0    \n",
       "2     1    \n",
       "3     0    \n",
       "4     0    \n",
       "...  ..    \n",
       "5567  1    \n",
       "5568  0    \n",
       "5569  0    \n",
       "5570  0    \n",
       "5571  0    \n",
       "\n",
       "                                                                                                                                                                                           v2  \n",
       "0     [Go, jurong, point, ,, crazy, .., Available, bugis, n, great, world, la, e, buffet, ..., Cine, got, amore, wat, ...]                                                                     \n",
       "1     [Ok, lar, ..., Joking, wif, u, oni, ...]                                                                                                                                                 \n",
       "2     [Free, entry, 2, wkly, comp, win, FA, Cup, final, tkts, 21st, May, 2005, ., Text, FA, 87121, receive, entry, question, (, std, txt, rate, ), T, &, C, 's, apply, 08452810075over18, 's]  \n",
       "3     [U, dun, say, early, hor, ..., U, c, already, say, ...]                                                                                                                                  \n",
       "4     [Nah, I, n't, think, goes, usf, ,, lives, around, though]                                                                                                                                \n",
       "...                                                         ...                                                                                                                                \n",
       "5567  [This, 2nd, time, tried, 2, contact, u., U, å£750, Pound, prize, ., 2, claim, easy, ,, call, 087187272008, NOW1, !, Only, 10p, per, minute, ., BT-national-rate, .]                      \n",
       "5568  [Will, Ì_, b, going, esplanade, fr, home, ?]                                                                                                                                             \n",
       "5569  [Pity, ,, *, mood, ., So, ..., suggestions, ?]                                                                                                                                           \n",
       "5570  [The, guy, bitching, I, acted, like, 'd, interested, buying, something, else, next, week, gave, us, free]                                                                                \n",
       "5571  [Rofl, ., Its, true, name]                                                                                                                                                               \n",
       "\n",
       "[5572 rows x 2 columns]"
      ]
     },
     "execution_count": 36,
     "metadata": {},
     "output_type": "execute_result"
    }
   ],
   "source": [
    "wd_test = spam.copy()\n",
    "result=[]\n",
    "for row in wd_test.v2:\n",
    "  tokenize = word_tokenize(row)\n",
    "  words = [word for word in tokenize if word not in stop_words] # 불용어 제거\n",
    "  result.append(words)\n",
    "\n",
    "wd_test.v2 = result\n",
    "wd_test"
   ]
  },
  {
   "cell_type": "code",
   "execution_count": 37,
   "metadata": {},
   "outputs": [],
   "source": [
    "def tokenizing(tokenizer):\n",
    "    result=[]\n",
    "    for row in spam.v2:\n",
    "        tokenize = tokenizer.tokenize(row)\n",
    "        words = [word for word in tokenize if word not in stop_words] # 불용어 제거\n",
    "        result.append(words)\n",
    "    return result"
   ]
  },
  {
   "cell_type": "code",
   "execution_count": 38,
   "metadata": {},
   "outputs": [
    {
     "name": "stdout",
     "output_type": "stream",
     "text": [
      "      v1  \\\n",
      "0     0    \n",
      "1     0    \n",
      "2     1    \n",
      "3     0    \n",
      "4     0    \n",
      "...  ..    \n",
      "5567  1    \n",
      "5568  0    \n",
      "5569  0    \n",
      "5570  0    \n",
      "5571  0    \n",
      "\n",
      "                                                                                                                                                                                         v2  \n",
      "0     [Go, jurong, point, ,, crazy.., Available, bugis, n, great, world, la, e, buffet, ..., Cine, got, amore, wat, ...]                                                                     \n",
      "1     [Ok, lar, ..., Joking, wif, u, oni, ...]                                                                                                                                               \n",
      "2     [Free, entry, 2, wkly, comp, win, FA, Cup, final, tkts, 21st, May, 2005., Text, FA, 87121, receive, entry, question, (, std, txt, rate, ), T, &, C, 's, apply, 08452810075over18, 's]  \n",
      "3     [U, dun, say, early, hor, ..., U, c, already, say, ...]                                                                                                                                \n",
      "4     [Nah, I, n't, think, goes, usf, ,, lives, around, though]                                                                                                                              \n",
      "...                                                         ...                                                                                                                              \n",
      "5567  [This, 2nd, time, tried, 2, contact, u., U, å£750, Pound, prize., 2, claim, easy, ,, call, 087187272008, NOW1, !, Only, 10p, per, minute., BT-national-rate, .]                        \n",
      "5568  [Will, Ì_, b, going, esplanade, fr, home, ?]                                                                                                                                           \n",
      "5569  [Pity, ,, *, mood, that., So, ..., suggestions, ?]                                                                                                                                     \n",
      "5570  [The, guy, bitching, I, acted, like, 'd, interested, buying, something, else, next, week, gave, us, free]                                                                              \n",
      "5571  [Rofl., Its, true, name]                                                                                                                                                               \n",
      "\n",
      "[5572 rows x 2 columns]\n"
     ]
    }
   ],
   "source": [
    "from nltk.tokenize import TreebankWordTokenizer\n",
    "\n",
    "tb_test = spam.copy()\n",
    "tb_test.v2 = tokenizing(TreebankWordTokenizer())\n",
    "print(tb_test)"
   ]
  },
  {
   "cell_type": "code",
   "execution_count": 39,
   "metadata": {},
   "outputs": [
    {
     "name": "stderr",
     "output_type": "stream",
     "text": [
      "C:\\Users\\iguv2\\AppData\\Local\\Temp/ipykernel_28772/1705942273.py:1: FutureWarning: Passing a negative integer is deprecated in version 1.0 and will not be supported in future version. Instead, use None to not limit the column width.\n",
      "  pd.set_option('display.max_colwidth', -1) # 전체 출력\n"
     ]
    },
    {
     "data": {
      "text/html": [
       "<div>\n",
       "<style scoped>\n",
       "    .dataframe tbody tr th:only-of-type {\n",
       "        vertical-align: middle;\n",
       "    }\n",
       "\n",
       "    .dataframe tbody tr th {\n",
       "        vertical-align: top;\n",
       "    }\n",
       "\n",
       "    .dataframe thead th {\n",
       "        text-align: right;\n",
       "    }\n",
       "</style>\n",
       "<table border=\"1\" class=\"dataframe\">\n",
       "  <thead>\n",
       "    <tr style=\"text-align: right;\">\n",
       "      <th></th>\n",
       "      <th>Tokenizer</th>\n",
       "      <th>result</th>\n",
       "    </tr>\n",
       "  </thead>\n",
       "  <tbody>\n",
       "    <tr>\n",
       "      <th>0</th>\n",
       "      <td>word_tokenize</td>\n",
       "      <td>[FreeMsg, Hey, darling, 's, 3, week, 's, word, back, !, I, 'd, like, fun, still, ?, Tb, ok, !, XxX, std, chgs, send, ,, å£1.50, rcv]</td>\n",
       "    </tr>\n",
       "    <tr>\n",
       "      <th>1</th>\n",
       "      <td>TreebankWordTokenizer</td>\n",
       "      <td>[FreeMsg, Hey, darling, 's, 3, week, 's, word, back, !, I, 'd, like, fun, still, ?, Tb, ok, !, XxX, std, chgs, send, ,, å£1.50, rcv]</td>\n",
       "    </tr>\n",
       "  </tbody>\n",
       "</table>\n",
       "</div>"
      ],
      "text/plain": [
       "               Tokenizer  \\\n",
       "0  word_tokenize           \n",
       "1  TreebankWordTokenizer   \n",
       "\n",
       "                                                                                                                                 result  \n",
       "0  [FreeMsg, Hey, darling, 's, 3, week, 's, word, back, !, I, 'd, like, fun, still, ?, Tb, ok, !, XxX, std, chgs, send, ,, å£1.50, rcv]  \n",
       "1  [FreeMsg, Hey, darling, 's, 3, week, 's, word, back, !, I, 'd, like, fun, still, ?, Tb, ok, !, XxX, std, chgs, send, ,, å£1.50, rcv]  "
      ]
     },
     "execution_count": 39,
     "metadata": {},
     "output_type": "execute_result"
    }
   ],
   "source": [
    "pd.set_option('display.max_colwidth', -1) # 전체 출력\n",
    "\n",
    "result_tokenizing = pd.DataFrame([['word_tokenize', wd_test.iloc[5]['v2']],\n",
    "                      ['TreebankWordTokenizer', tb_test.iloc[5]['v2']]], columns = ['Tokenizer', 'result'])\n",
    "result_tokenizing"
   ]
  },
  {
   "cell_type": "code",
   "execution_count": null,
   "metadata": {},
   "outputs": [],
   "source": []
  },
  {
   "cell_type": "code",
   "execution_count": null,
   "metadata": {},
   "outputs": [],
   "source": []
  },
  {
   "cell_type": "markdown",
   "metadata": {},
   "source": [
    "## Embedding\n",
    "\n",
    "- 수업에서 다룬 임베딩 방법에는 One-hot encoding, CBOW, Skip-gram, GloVe, FastText가 있었습니다. 다양한 시도와 '비교' 결과를 함께 적어주세요! 파라미터를 조정해가는 과정도 해석에 도움이 될 수 있겠죠 :)"
   ]
  },
  {
   "cell_type": "code",
   "execution_count": 43,
   "metadata": {},
   "outputs": [],
   "source": [
    "# 스팸에 대해 학습\n",
    "from gensim.models import Word2Vec\n",
    "mt_test = spam.copy()\n",
    "model = Word2Vec(mt_test[mt_test.v1 == 1]['v2'], min_count=5, window=2, sg=1) # skip-gram"
   ]
  },
  {
   "cell_type": "code",
   "execution_count": 44,
   "metadata": {},
   "outputs": [],
   "source": [
    "model.save('w2v_model_spam')"
   ]
  },
  {
   "cell_type": "markdown",
   "metadata": {},
   "source": [
    "## 본인이 도출해낸 해석을 적어주세요!\n",
    "\n",
    "- 유사도, Wordcloud, 이진 분류 모델, Plot 뭐든 상관없으니 분명하고 인상적인 해석을 적어주시면 됩니다."
   ]
  },
  {
   "cell_type": "code",
   "execution_count": null,
   "metadata": {},
   "outputs": [],
   "source": []
  },
  {
   "cell_type": "code",
   "execution_count": null,
   "metadata": {},
   "outputs": [],
   "source": []
  }
 ],
 "metadata": {
  "kernelspec": {
   "display_name": "Python 3.9.6 64-bit",
   "language": "python",
   "name": "python3"
  },
  "language_info": {
   "codemirror_mode": {
    "name": "ipython",
    "version": 3
   },
   "file_extension": ".py",
   "mimetype": "text/x-python",
   "name": "python",
   "nbconvert_exporter": "python",
   "pygments_lexer": "ipython3",
   "version": "3.9.6"
  },
  "vscode": {
   "interpreter": {
    "hash": "e4f9a61315a974bc6af80a8a4aafd52abdbd06ef6accb419712864639ff48b47"
   }
  }
 },
 "nbformat": 4,
 "nbformat_minor": 4
}
